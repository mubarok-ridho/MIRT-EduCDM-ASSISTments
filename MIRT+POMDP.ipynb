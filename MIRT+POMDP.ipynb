{
  "nbformat": 4,
  "nbformat_minor": 0,
  "metadata": {
    "colab": {
      "provenance": [],
      "gpuType": "A100",
      "mount_file_id": "1QZyKF264aJzkAAnUuLpWgd0LFcMxJgI2",
      "authorship_tag": "ABX9TyNGZLJjAFI+1SpXOkl9x94Z",
      "include_colab_link": true
    },
    "kernelspec": {
      "name": "python3",
      "display_name": "Python 3"
    },
    "language_info": {
      "name": "python"
    },
    "accelerator": "GPU"
  },
  "cells": [
    {
      "cell_type": "markdown",
      "metadata": {
        "id": "view-in-github",
        "colab_type": "text"
      },
      "source": [
        "<a href=\"https://colab.research.google.com/github/mubarok-ridho/MIRT-EduCDM-ASSISTments/blob/main/MIRT%2BPOMDP.ipynb\" target=\"_parent\"><img src=\"https://colab.research.google.com/assets/colab-badge.svg\" alt=\"Open In Colab\"/></a>"
      ]
    },
    {
      "cell_type": "code",
      "execution_count": null,
      "metadata": {
        "id": "FAtaMfzkimbR"
      },
      "outputs": [],
      "source": [
        "import sys\n",
        "sys.path.append(\"/content/drive/MyDrive/Ridho/EduCDM\")\n",
        "\n",
        "from EduCDM.MIRT.MIRT import MIRT"
      ]
    },
    {
      "cell_type": "markdown",
      "source": [
        "# Data Preparation"
      ],
      "metadata": {
        "id": "8MTbg9q-pfBy"
      }
    },
    {
      "cell_type": "markdown",
      "source": [
        "1. Data Preparation\n",
        "\n",
        "Pertama, data hasil preprocessing dimuat dari file CSV. Dataset berasal dari ASSISTments Skill Builder yang sudah dibersihkan, lalu di-encode menggunakan latin1 untuk memastikan kompatibilitas karakter.\n",
        "\n",
        "Langkah preprocessing:\n",
        "\n",
        "-Drop missing values pada kolom user_id, problem_id, dan correct.\n",
        "\n",
        "-Lakukan normalisasi (Z-score) pada fitur numerik jika ada (ms_first_response, attempt_count, hint_count).\n",
        "\n",
        "-Encode answer_type jika tersedia.\n",
        "\n",
        "-Pastikan label correct berupa binary 0/1.\n",
        "\n",
        "Hasil akhirnya: dataset siap dipakai untuk pemetaan user–item."
      ],
      "metadata": {
        "id": "aGnh0ldAEDRe"
      }
    },
    {
      "cell_type": "code",
      "source": [
        "import pandas as pd\n",
        "\n",
        "df = pd.read_csv(\n",
        "    \"/content/drive/MyDrive/Ridho/Required_data/preprocessed_skillbuilder_new.csv\",\n",
        "    encoding=\"latin1\"\n",
        ")\n",
        "df = df[[\"user_id\", \"problem_id\", \"correct\"]]\n",
        "print(\"Data shape:\", df.shape)\n",
        "print(df.head())"
      ],
      "metadata": {
        "colab": {
          "base_uri": "https://localhost:8080/"
        },
        "id": "H4oeboewi1ow",
        "outputId": "f87980dc-6352-45b5-becf-f19fd7f5fa5b"
      },
      "execution_count": null,
      "outputs": [
        {
          "output_type": "stream",
          "name": "stderr",
          "text": [
            "/tmp/ipython-input-4220339903.py:3: DtypeWarning: Columns (16,17) have mixed types. Specify dtype option on import or set low_memory=False.\n",
            "  df = pd.read_csv(\n"
          ]
        },
        {
          "output_type": "stream",
          "name": "stdout",
          "text": [
            "Data shape: (340727, 3)\n",
            "   user_id  problem_id  correct\n",
            "0    64525       51424        1\n",
            "1    64525       51435        1\n",
            "2    70363       51444        0\n",
            "3    70363       51395        1\n",
            "4    70363       51481        0\n"
          ]
        }
      ]
    },
    {
      "cell_type": "markdown",
      "source": [
        "Dataset & Dataloader\n",
        "\n",
        "Agar model MIRT bisa dilatih, data diubah menjadi indeks numerik:\n",
        "\n",
        "user_id → user_idx\n",
        "\n",
        "problem_id → item_idx"
      ],
      "metadata": {
        "id": "J8g7GiFOEdv6"
      }
    },
    {
      "cell_type": "code",
      "source": [
        "from sklearn.preprocessing import LabelEncoder\n",
        "\n",
        "user_enc = LabelEncoder()\n",
        "item_enc = LabelEncoder()\n",
        "\n",
        "df[\"user_idx\"] = user_enc.fit_transform(df[\"user_id\"])\n",
        "df[\"item_idx\"] = item_enc.fit_transform(df[\"problem_id\"])\n",
        "\n",
        "num_users = df[\"user_idx\"].nunique()\n",
        "num_items = df[\"item_idx\"].nunique()\n",
        "\n",
        "print(\"num_users:\", num_users, \"num_items:\", num_items)"
      ],
      "metadata": {
        "colab": {
          "base_uri": "https://localhost:8080/"
        },
        "id": "MCXiO6L8oUHl",
        "outputId": "a3b066d5-9d39-4279-c346-9f72d9c57841"
      },
      "execution_count": null,
      "outputs": [
        {
          "output_type": "stream",
          "name": "stdout",
          "text": [
            "num_users: 4213 num_items: 26642\n"
          ]
        }
      ]
    },
    {
      "cell_type": "code",
      "source": [
        "from sklearn.model_selection import GroupKFold\n",
        "\n",
        "df_small = df[[\"user_idx\", \"item_idx\", \"correct\"]]\n",
        "folds = []\n",
        "gkf = GroupKFold(n_splits=5)\n",
        "\n",
        "for tr_idx, te_idx in gkf.split(df_small, groups=df_small[\"user_idx\"]):\n",
        "    train_df = df_small.iloc[tr_idx].reset_index(drop=True)\n",
        "    test_df = df_small.iloc[te_idx].reset_index(drop=True)\n",
        "    folds.append((train_df, test_df))\n",
        "\n",
        "for i, (tr, te) in enumerate(folds, 1):\n",
        "    print(f\"Fold {i}: train={len(tr)}, test={len(te)}, \"\n",
        "          f\"train_users={tr['user_idx'].nunique()}, test_users={te['user_idx'].nunique()}\")"
      ],
      "metadata": {
        "colab": {
          "base_uri": "https://localhost:8080/"
        },
        "id": "RYkw81rBomAh",
        "outputId": "6673fc7c-ebfc-4f1a-b462-f0416d312ae2"
      },
      "execution_count": null,
      "outputs": [
        {
          "output_type": "stream",
          "name": "stdout",
          "text": [
            "Fold 1: train=272581, test=68146, train_users=3370, test_users=843\n",
            "Fold 2: train=272581, test=68146, train_users=3370, test_users=843\n",
            "Fold 3: train=272582, test=68145, train_users=3371, test_users=842\n",
            "Fold 4: train=272582, test=68145, train_users=3371, test_users=842\n",
            "Fold 5: train=272582, test=68145, train_users=3370, test_users=843\n"
          ]
        }
      ]
    },
    {
      "cell_type": "code",
      "source": [
        "import torch\n",
        "from torch.utils.data import Dataset, DataLoader\n",
        "\n",
        "class InteractionDataset(Dataset):\n",
        "    def __init__(self, df):\n",
        "        self.users = torch.tensor(df[\"user_idx\"].values, dtype=torch.long)\n",
        "        self.items = torch.tensor(df[\"item_idx\"].values, dtype=torch.long)\n",
        "        self.labels = torch.tensor(df[\"correct\"].values, dtype=torch.float32)\n",
        "\n",
        "    def __len__(self):\n",
        "        return len(self.users)\n",
        "\n",
        "    def __getitem__(self, idx):\n",
        "        return self.users[idx], self.items[idx], self.labels[idx]\n",
        "\n",
        "def make_loaders(train_df, test_df, batch_size=512):\n",
        "    train_loader = DataLoader(InteractionDataset(train_df), batch_size=batch_size, shuffle=True)\n",
        "    test_loader  = DataLoader(InteractionDataset(test_df), batch_size=batch_size, shuffle=False)\n",
        "    return train_loader, test_loader"
      ],
      "metadata": {
        "id": "U_MDFRL-otXo"
      },
      "execution_count": null,
      "outputs": []
    },
    {
      "cell_type": "markdown",
      "source": [
        "# Training Using Best Params"
      ],
      "metadata": {
        "id": "3nX9-FoMpi1g"
      }
    },
    {
      "cell_type": "markdown",
      "source": [
        "Model Training (MIRT)\n",
        "\n",
        "Model MIRT (Multidimensional Item Response Theory) diambil dari mirt.py.\n",
        "Struktur model:\n",
        "\n",
        "θ_u: embedding user (kemampuan multidimensi).\n",
        "\n",
        "a_i: embedding item discrimination.\n",
        "\n",
        "b_i: embedding item difficulty.\n",
        "\n",
        "Fungsinya:\n",
        "\n"
      ],
      "metadata": {
        "id": "vycMASLOEj1J"
      }
    },
    {
      "cell_type": "markdown",
      "source": [
        "![Screenshot 2025-09-09 082521.png](data:image/png;base64,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)"
      ],
      "metadata": {
        "id": "zv6QNokoFFDy"
      }
    },
    {
      "cell_type": "markdown",
      "source": [
        "Hyperparameter yang digunakan:\n",
        "\n",
        "latent_dim = 5\n",
        "lr = 0.001\n",
        "dropout = 0.3\n",
        "batch = 512\n",
        "epochs = 100\n",
        "\n",
        "Training dilakukan per fold, model terbaik disimpan (.pth), dan hasil akhir AUC/Accuracy direkap."
      ],
      "metadata": {
        "id": "EqJLNuWGFP_q"
      }
    },
    {
      "cell_type": "code",
      "source": [
        "import os, json, numpy as np\n",
        "\n",
        "LATENT_DIM = 5\n",
        "A_RANGE = 1.0\n",
        "BATCH = 512\n",
        "EPOCHS = 30\n",
        "LR = 0.001\n",
        "DROPOUT = 0.3\n",
        "MODEL_DIR = \"/content/drive/MyDrive/Ridho/Models/MIRT_POMDP\"\n",
        "os.makedirs(MODEL_DIR, exist_ok=True)\n",
        "\n",
        "device = \"cuda\" if torch.cuda.is_available() else \"cpu\"\n",
        "print(\"Using device:\", device)\n",
        "\n",
        "all_fold_results = []\n",
        "for fold_id, (train_df, test_df) in enumerate(folds, 1):\n",
        "    print(f\"\\n=== Fold {fold_id} ===\")\n",
        "    train_loader, test_loader = make_loaders(train_df, test_df, batch_size=BATCH)\n",
        "\n",
        "    model = MIRT(user_num=num_users, item_num=num_items,\n",
        "                 latent_dim=LATENT_DIM, a_range=A_RANGE, dropout=DROPOUT)\n",
        "\n",
        "    save_path = os.path.join(MODEL_DIR, f\"mirt_fold{fold_id}_best.pth\")\n",
        "    history = model.train(train_loader, test_loader,\n",
        "                          epoch=EPOCHS, device=device, lr=LR,\n",
        "                          save_path=save_path, return_history=True)\n",
        "\n",
        "    auc_final, acc_final = model.eval(test_loader, device=device)\n",
        "    print(f\"[Fold {fold_id}] final AUC={auc_final:.4f}, Acc={acc_final:.4f}\")\n",
        "    all_fold_results.append((auc_final, acc_final))\n",
        "\n",
        "aucs = [x[0] for x in all_fold_results]\n",
        "accs = [x[1] for x in all_fold_results]\n",
        "print(\"\\n--- Hasil Cross-Validation (MIRT untuk POMDP) ---\")\n",
        "print(f\"AUC rata-rata: {np.mean(aucs):.4f} ± {np.std(aucs, ddof=1):.4f}\")\n",
        "print(f\"Akurasi rata-rata: {np.mean(accs):.4f} ± {np.std(accs, ddof=1):.4f}\")"
      ],
      "metadata": {
        "colab": {
          "base_uri": "https://localhost:8080/"
        },
        "id": "iuJTxx51poyM",
        "outputId": "1a9864ec-e5e3-443b-fa7e-5f3d73edfb1b"
      },
      "execution_count": null,
      "outputs": [
        {
          "output_type": "stream",
          "name": "stdout",
          "text": [
            "Using device: cpu\n",
            "\n",
            "=== Fold 1 ===\n"
          ]
        },
        {
          "output_type": "stream",
          "name": "stderr",
          "text": [
            "Epoch 1: 100%|██████████| 533/533 [00:06<00:00, 82.41it/s]\n"
          ]
        },
        {
          "output_type": "stream",
          "name": "stdout",
          "text": [
            "[Epoch 1] Loss=0.667128 | AUC=0.688275, Acc=0.683342\n"
          ]
        },
        {
          "output_type": "stream",
          "name": "stderr",
          "text": [
            "Epoch 2: 100%|██████████| 533/533 [00:06<00:00, 84.08it/s]\n"
          ]
        },
        {
          "output_type": "stream",
          "name": "stdout",
          "text": [
            "[Epoch 2] Loss=0.635976 | AUC=0.692213, Acc=0.680994\n"
          ]
        },
        {
          "output_type": "stream",
          "name": "stderr",
          "text": [
            "Epoch 3: 100%|██████████| 533/533 [00:07<00:00, 67.68it/s]\n"
          ]
        },
        {
          "output_type": "stream",
          "name": "stdout",
          "text": [
            "[Epoch 3] Loss=0.621845 | AUC=0.694241, Acc=0.679424\n"
          ]
        },
        {
          "output_type": "stream",
          "name": "stderr",
          "text": [
            "Epoch 4: 100%|██████████| 533/533 [00:07<00:00, 71.89it/s]\n"
          ]
        },
        {
          "output_type": "stream",
          "name": "stdout",
          "text": [
            "[Epoch 4] Loss=0.612774 | AUC=0.695363, Acc=0.677677\n"
          ]
        },
        {
          "output_type": "stream",
          "name": "stderr",
          "text": [
            "Epoch 5: 100%|██████████| 533/533 [00:07<00:00, 69.12it/s]\n"
          ]
        },
        {
          "output_type": "stream",
          "name": "stdout",
          "text": [
            "[Epoch 5] Loss=0.605603 | AUC=0.696290, Acc=0.676900\n"
          ]
        },
        {
          "output_type": "stream",
          "name": "stderr",
          "text": [
            "Epoch 6: 100%|██████████| 533/533 [00:08<00:00, 63.93it/s]\n"
          ]
        },
        {
          "output_type": "stream",
          "name": "stdout",
          "text": [
            "[Epoch 6] Loss=0.598368 | AUC=0.696946, Acc=0.675638\n"
          ]
        },
        {
          "output_type": "stream",
          "name": "stderr",
          "text": [
            "Epoch 7: 100%|██████████| 533/533 [00:07<00:00, 74.21it/s]\n"
          ]
        },
        {
          "output_type": "stream",
          "name": "stdout",
          "text": [
            "[Epoch 7] Loss=0.592012 | AUC=0.697524, Acc=0.675344\n"
          ]
        },
        {
          "output_type": "stream",
          "name": "stderr",
          "text": [
            "Epoch 8: 100%|██████████| 533/533 [00:07<00:00, 68.58it/s]\n"
          ]
        },
        {
          "output_type": "stream",
          "name": "stdout",
          "text": [
            "[Epoch 8] Loss=0.585860 | AUC=0.697995, Acc=0.675168\n"
          ]
        },
        {
          "output_type": "stream",
          "name": "stderr",
          "text": [
            "Epoch 9: 100%|██████████| 533/533 [00:09<00:00, 53.75it/s]\n"
          ]
        },
        {
          "output_type": "stream",
          "name": "stdout",
          "text": [
            "[Epoch 9] Loss=0.580629 | AUC=0.698470, Acc=0.675139\n"
          ]
        },
        {
          "output_type": "stream",
          "name": "stderr",
          "text": [
            "Epoch 10: 100%|██████████| 533/533 [00:08<00:00, 65.38it/s]\n"
          ]
        },
        {
          "output_type": "stream",
          "name": "stdout",
          "text": [
            "[Epoch 10] Loss=0.575649 | AUC=0.698865, Acc=0.675080\n"
          ]
        },
        {
          "output_type": "stream",
          "name": "stderr",
          "text": [
            "Epoch 11: 100%|██████████| 533/533 [00:07<00:00, 73.39it/s]\n"
          ]
        },
        {
          "output_type": "stream",
          "name": "stdout",
          "text": [
            "[Epoch 11] Loss=0.570559 | AUC=0.699197, Acc=0.674992\n"
          ]
        },
        {
          "output_type": "stream",
          "name": "stderr",
          "text": [
            "Epoch 12: 100%|██████████| 533/533 [00:08<00:00, 63.14it/s]\n"
          ]
        },
        {
          "output_type": "stream",
          "name": "stdout",
          "text": [
            "[Epoch 12] Loss=0.566463 | AUC=0.699585, Acc=0.675139\n"
          ]
        },
        {
          "output_type": "stream",
          "name": "stderr",
          "text": [
            "Epoch 13: 100%|██████████| 533/533 [00:09<00:00, 56.58it/s]\n"
          ]
        },
        {
          "output_type": "stream",
          "name": "stdout",
          "text": [
            "[Epoch 13] Loss=0.562389 | AUC=0.699890, Acc=0.675153\n"
          ]
        },
        {
          "output_type": "stream",
          "name": "stderr",
          "text": [
            "Epoch 14: 100%|██████████| 533/533 [00:07<00:00, 74.65it/s]\n"
          ]
        },
        {
          "output_type": "stream",
          "name": "stdout",
          "text": [
            "[Epoch 14] Loss=0.558019 | AUC=0.700194, Acc=0.675241\n"
          ]
        },
        {
          "output_type": "stream",
          "name": "stderr",
          "text": [
            "Epoch 15: 100%|██████████| 533/533 [00:07<00:00, 69.85it/s]\n"
          ]
        },
        {
          "output_type": "stream",
          "name": "stdout",
          "text": [
            "[Epoch 15] Loss=0.554426 | AUC=0.700445, Acc=0.675021\n"
          ]
        },
        {
          "output_type": "stream",
          "name": "stderr",
          "text": [
            "Epoch 16: 100%|██████████| 533/533 [00:09<00:00, 55.59it/s]\n"
          ]
        },
        {
          "output_type": "stream",
          "name": "stdout",
          "text": [
            "[Epoch 16] Loss=0.551314 | AUC=0.700710, Acc=0.675227\n"
          ]
        },
        {
          "output_type": "stream",
          "name": "stderr",
          "text": [
            "Epoch 17: 100%|██████████| 533/533 [00:07<00:00, 69.12it/s]\n"
          ]
        },
        {
          "output_type": "stream",
          "name": "stdout",
          "text": [
            "[Epoch 17] Loss=0.547828 | AUC=0.700908, Acc=0.675447\n"
          ]
        },
        {
          "output_type": "stream",
          "name": "stderr",
          "text": [
            "Epoch 18: 100%|██████████| 533/533 [00:07<00:00, 69.75it/s]\n"
          ]
        },
        {
          "output_type": "stream",
          "name": "stdout",
          "text": [
            "[Epoch 18] Loss=0.544945 | AUC=0.701088, Acc=0.675359\n"
          ]
        },
        {
          "output_type": "stream",
          "name": "stderr",
          "text": [
            "Epoch 19: 100%|██████████| 533/533 [00:08<00:00, 65.03it/s]\n"
          ]
        },
        {
          "output_type": "stream",
          "name": "stdout",
          "text": [
            "[Epoch 19] Loss=0.542246 | AUC=0.701267, Acc=0.675667\n"
          ]
        },
        {
          "output_type": "stream",
          "name": "stderr",
          "text": [
            "Epoch 20: 100%|██████████| 533/533 [00:07<00:00, 69.73it/s]\n"
          ]
        },
        {
          "output_type": "stream",
          "name": "stdout",
          "text": [
            "[Epoch 20] Loss=0.539650 | AUC=0.701438, Acc=0.675462\n"
          ]
        },
        {
          "output_type": "stream",
          "name": "stderr",
          "text": [
            "Epoch 21: 100%|██████████| 533/533 [00:07<00:00, 69.95it/s]\n"
          ]
        },
        {
          "output_type": "stream",
          "name": "stdout",
          "text": [
            "[Epoch 21] Loss=0.537203 | AUC=0.701594, Acc=0.675535\n"
          ]
        },
        {
          "output_type": "stream",
          "name": "stderr",
          "text": [
            "Epoch 22: 100%|██████████| 533/533 [00:08<00:00, 62.62it/s]\n"
          ]
        },
        {
          "output_type": "stream",
          "name": "stdout",
          "text": [
            "[Epoch 22] Loss=0.535121 | AUC=0.701736, Acc=0.675506\n"
          ]
        },
        {
          "output_type": "stream",
          "name": "stderr",
          "text": [
            "Epoch 23: 100%|██████████| 533/533 [00:07<00:00, 68.35it/s]\n"
          ]
        },
        {
          "output_type": "stream",
          "name": "stdout",
          "text": [
            "[Epoch 23] Loss=0.532709 | AUC=0.701857, Acc=0.675623\n"
          ]
        },
        {
          "output_type": "stream",
          "name": "stderr",
          "text": [
            "Epoch 24: 100%|██████████| 533/533 [00:07<00:00, 70.13it/s]\n"
          ]
        },
        {
          "output_type": "stream",
          "name": "stdout",
          "text": [
            "[Epoch 24] Loss=0.530733 | AUC=0.701946, Acc=0.675814\n"
          ]
        },
        {
          "output_type": "stream",
          "name": "stderr",
          "text": [
            "Epoch 25: 100%|██████████| 533/533 [00:08<00:00, 65.61it/s]\n"
          ]
        },
        {
          "output_type": "stream",
          "name": "stdout",
          "text": [
            "[Epoch 25] Loss=0.528503 | AUC=0.702027, Acc=0.675975\n"
          ]
        },
        {
          "output_type": "stream",
          "name": "stderr",
          "text": [
            "Epoch 26: 100%|██████████| 533/533 [00:07<00:00, 70.53it/s]\n"
          ]
        },
        {
          "output_type": "stream",
          "name": "stdout",
          "text": [
            "[Epoch 26] Loss=0.526891 | AUC=0.702108, Acc=0.676269\n"
          ]
        },
        {
          "output_type": "stream",
          "name": "stderr",
          "text": [
            "Epoch 27: 100%|██████████| 533/533 [00:07<00:00, 68.96it/s]\n"
          ]
        },
        {
          "output_type": "stream",
          "name": "stdout",
          "text": [
            "[Epoch 27] Loss=0.525128 | AUC=0.702204, Acc=0.676283\n"
          ]
        },
        {
          "output_type": "stream",
          "name": "stderr",
          "text": [
            "Epoch 28: 100%|██████████| 533/533 [00:08<00:00, 62.50it/s]\n"
          ]
        },
        {
          "output_type": "stream",
          "name": "stdout",
          "text": [
            "[Epoch 28] Loss=0.523586 | AUC=0.702300, Acc=0.676768\n"
          ]
        },
        {
          "output_type": "stream",
          "name": "stderr",
          "text": [
            "Epoch 29: 100%|██████████| 533/533 [00:07<00:00, 70.10it/s]\n"
          ]
        },
        {
          "output_type": "stream",
          "name": "stdout",
          "text": [
            "[Epoch 29] Loss=0.521838 | AUC=0.702344, Acc=0.676650\n"
          ]
        },
        {
          "output_type": "stream",
          "name": "stderr",
          "text": [
            "Epoch 30: 100%|██████████| 533/533 [00:07<00:00, 72.33it/s]\n"
          ]
        },
        {
          "output_type": "stream",
          "name": "stdout",
          "text": [
            "[Epoch 30] Loss=0.520473 | AUC=0.702424, Acc=0.676885\n",
            "[Fold 1] final AUC=0.7024, Acc=0.6769\n",
            "\n",
            "=== Fold 2 ===\n"
          ]
        },
        {
          "output_type": "stream",
          "name": "stderr",
          "text": [
            "Epoch 1: 100%|██████████| 533/533 [00:07<00:00, 72.20it/s]\n"
          ]
        },
        {
          "output_type": "stream",
          "name": "stdout",
          "text": [
            "[Epoch 1] Loss=0.667394 | AUC=0.680600, Acc=0.688390\n"
          ]
        },
        {
          "output_type": "stream",
          "name": "stderr",
          "text": [
            "Epoch 2: 100%|██████████| 533/533 [00:06<00:00, 76.89it/s]\n"
          ]
        },
        {
          "output_type": "stream",
          "name": "stdout",
          "text": [
            "[Epoch 2] Loss=0.637141 | AUC=0.684983, Acc=0.686365\n"
          ]
        },
        {
          "output_type": "stream",
          "name": "stderr",
          "text": [
            "Epoch 3: 100%|██████████| 533/533 [00:07<00:00, 75.92it/s]\n"
          ]
        },
        {
          "output_type": "stream",
          "name": "stdout",
          "text": [
            "[Epoch 3] Loss=0.623165 | AUC=0.687028, Acc=0.684648\n"
          ]
        },
        {
          "output_type": "stream",
          "name": "stderr",
          "text": [
            "Epoch 4: 100%|██████████| 533/533 [00:08<00:00, 63.20it/s]\n"
          ]
        },
        {
          "output_type": "stream",
          "name": "stdout",
          "text": [
            "[Epoch 4] Loss=0.614050 | AUC=0.688400, Acc=0.683136\n"
          ]
        },
        {
          "output_type": "stream",
          "name": "stderr",
          "text": [
            "Epoch 5: 100%|██████████| 533/533 [00:07<00:00, 68.10it/s]\n"
          ]
        },
        {
          "output_type": "stream",
          "name": "stdout",
          "text": [
            "[Epoch 5] Loss=0.606440 | AUC=0.689271, Acc=0.682197\n"
          ]
        },
        {
          "output_type": "stream",
          "name": "stderr",
          "text": [
            "Epoch 6: 100%|██████████| 533/533 [00:14<00:00, 37.71it/s]\n"
          ]
        },
        {
          "output_type": "stream",
          "name": "stdout",
          "text": [
            "[Epoch 6] Loss=0.599206 | AUC=0.690095, Acc=0.681038\n"
          ]
        },
        {
          "output_type": "stream",
          "name": "stderr",
          "text": [
            "Epoch 7: 100%|██████████| 533/533 [00:07<00:00, 73.64it/s]\n"
          ]
        },
        {
          "output_type": "stream",
          "name": "stdout",
          "text": [
            "[Epoch 7] Loss=0.592930 | AUC=0.690712, Acc=0.680260\n"
          ]
        },
        {
          "output_type": "stream",
          "name": "stderr",
          "text": [
            "Epoch 8: 100%|██████████| 533/533 [00:08<00:00, 63.41it/s]\n"
          ]
        },
        {
          "output_type": "stream",
          "name": "stdout",
          "text": [
            "[Epoch 8] Loss=0.587182 | AUC=0.691220, Acc=0.679644\n"
          ]
        },
        {
          "output_type": "stream",
          "name": "stderr",
          "text": [
            "Epoch 9: 100%|██████████| 533/533 [00:08<00:00, 65.56it/s]\n"
          ]
        },
        {
          "output_type": "stream",
          "name": "stdout",
          "text": [
            "[Epoch 9] Loss=0.581332 | AUC=0.691693, Acc=0.679321\n"
          ]
        },
        {
          "output_type": "stream",
          "name": "stderr",
          "text": [
            "Epoch 10: 100%|██████████| 533/533 [00:07<00:00, 74.96it/s]\n"
          ]
        },
        {
          "output_type": "stream",
          "name": "stdout",
          "text": [
            "[Epoch 10] Loss=0.576678 | AUC=0.692075, Acc=0.678939\n"
          ]
        },
        {
          "output_type": "stream",
          "name": "stderr",
          "text": [
            "Epoch 11: 100%|██████████| 533/533 [00:08<00:00, 60.93it/s]\n"
          ]
        },
        {
          "output_type": "stream",
          "name": "stdout",
          "text": [
            "[Epoch 11] Loss=0.571716 | AUC=0.692460, Acc=0.678793\n"
          ]
        },
        {
          "output_type": "stream",
          "name": "stderr",
          "text": [
            "Epoch 12: 100%|██████████| 533/533 [00:09<00:00, 54.07it/s]\n"
          ]
        },
        {
          "output_type": "stream",
          "name": "stdout",
          "text": [
            "[Epoch 12] Loss=0.567160 | AUC=0.692887, Acc=0.679115\n"
          ]
        },
        {
          "output_type": "stream",
          "name": "stderr",
          "text": [
            "Epoch 13: 100%|██████████| 533/533 [00:07<00:00, 72.64it/s]\n"
          ]
        },
        {
          "output_type": "stream",
          "name": "stdout",
          "text": [
            "[Epoch 13] Loss=0.563336 | AUC=0.693230, Acc=0.679130\n"
          ]
        },
        {
          "output_type": "stream",
          "name": "stderr",
          "text": [
            "Epoch 14: 100%|██████████| 533/533 [00:08<00:00, 64.44it/s]\n"
          ]
        },
        {
          "output_type": "stream",
          "name": "stdout",
          "text": [
            "[Epoch 14] Loss=0.559084 | AUC=0.693540, Acc=0.679013\n"
          ]
        },
        {
          "output_type": "stream",
          "name": "stderr",
          "text": [
            "Epoch 15: 100%|██████████| 533/533 [00:08<00:00, 63.61it/s]\n"
          ]
        },
        {
          "output_type": "stream",
          "name": "stdout",
          "text": [
            "[Epoch 15] Loss=0.555833 | AUC=0.693818, Acc=0.678822\n"
          ]
        },
        {
          "output_type": "stream",
          "name": "stderr",
          "text": [
            "Epoch 16: 100%|██████████| 533/533 [00:07<00:00, 72.18it/s]\n"
          ]
        },
        {
          "output_type": "stream",
          "name": "stdout",
          "text": [
            "[Epoch 16] Loss=0.552183 | AUC=0.694098, Acc=0.678910\n"
          ]
        },
        {
          "output_type": "stream",
          "name": "stderr",
          "text": [
            "Epoch 17: 100%|██████████| 533/533 [00:08<00:00, 64.34it/s]\n"
          ]
        },
        {
          "output_type": "stream",
          "name": "stdout",
          "text": [
            "[Epoch 17] Loss=0.549345 | AUC=0.694358, Acc=0.679336\n"
          ]
        },
        {
          "output_type": "stream",
          "name": "stderr",
          "text": [
            "Epoch 18: 100%|██████████| 533/533 [00:08<00:00, 61.48it/s]\n"
          ]
        },
        {
          "output_type": "stream",
          "name": "stdout",
          "text": [
            "[Epoch 18] Loss=0.546312 | AUC=0.694598, Acc=0.679380\n"
          ]
        },
        {
          "output_type": "stream",
          "name": "stderr",
          "text": [
            "Epoch 19: 100%|██████████| 533/533 [00:07<00:00, 71.64it/s]\n"
          ]
        },
        {
          "output_type": "stream",
          "name": "stdout",
          "text": [
            "[Epoch 19] Loss=0.543307 | AUC=0.694831, Acc=0.679600\n"
          ]
        },
        {
          "output_type": "stream",
          "name": "stderr",
          "text": [
            "Epoch 20: 100%|██████████| 533/533 [00:07<00:00, 67.42it/s]\n"
          ]
        },
        {
          "output_type": "stream",
          "name": "stdout",
          "text": [
            "[Epoch 20] Loss=0.540935 | AUC=0.695041, Acc=0.679878\n"
          ]
        },
        {
          "output_type": "stream",
          "name": "stderr",
          "text": [
            "Epoch 21: 100%|██████████| 533/533 [00:08<00:00, 64.99it/s]\n"
          ]
        },
        {
          "output_type": "stream",
          "name": "stdout",
          "text": [
            "[Epoch 21] Loss=0.538431 | AUC=0.695237, Acc=0.679923\n"
          ]
        },
        {
          "output_type": "stream",
          "name": "stderr",
          "text": [
            "Epoch 22: 100%|██████████| 533/533 [00:07<00:00, 74.04it/s]\n"
          ]
        },
        {
          "output_type": "stream",
          "name": "stdout",
          "text": [
            "[Epoch 22] Loss=0.536174 | AUC=0.695417, Acc=0.680304\n"
          ]
        },
        {
          "output_type": "stream",
          "name": "stderr",
          "text": [
            "Epoch 23: 100%|██████████| 533/533 [00:08<00:00, 66.46it/s]\n"
          ]
        },
        {
          "output_type": "stream",
          "name": "stdout",
          "text": [
            "[Epoch 23] Loss=0.533947 | AUC=0.695561, Acc=0.680319\n"
          ]
        },
        {
          "output_type": "stream",
          "name": "stderr",
          "text": [
            "Epoch 24: 100%|██████████| 533/533 [00:08<00:00, 62.88it/s]\n"
          ]
        },
        {
          "output_type": "stream",
          "name": "stdout",
          "text": [
            "[Epoch 24] Loss=0.531932 | AUC=0.695695, Acc=0.680583\n"
          ]
        },
        {
          "output_type": "stream",
          "name": "stderr",
          "text": [
            "Epoch 25: 100%|██████████| 533/533 [00:07<00:00, 73.66it/s]\n"
          ]
        },
        {
          "output_type": "stream",
          "name": "stdout",
          "text": [
            "[Epoch 25] Loss=0.529795 | AUC=0.695824, Acc=0.680686\n"
          ]
        },
        {
          "output_type": "stream",
          "name": "stderr",
          "text": [
            "Epoch 26: 100%|██████████| 533/533 [00:07<00:00, 70.85it/s]\n"
          ]
        },
        {
          "output_type": "stream",
          "name": "stdout",
          "text": [
            "[Epoch 26] Loss=0.528041 | AUC=0.695948, Acc=0.680920\n"
          ]
        },
        {
          "output_type": "stream",
          "name": "stderr",
          "text": [
            "Epoch 27: 100%|██████████| 533/533 [00:08<00:00, 64.21it/s]\n"
          ]
        },
        {
          "output_type": "stream",
          "name": "stdout",
          "text": [
            "[Epoch 27] Loss=0.526219 | AUC=0.696056, Acc=0.681317\n"
          ]
        },
        {
          "output_type": "stream",
          "name": "stderr",
          "text": [
            "Epoch 28: 100%|██████████| 533/533 [00:07<00:00, 72.61it/s]\n"
          ]
        },
        {
          "output_type": "stream",
          "name": "stdout",
          "text": [
            "[Epoch 28] Loss=0.524718 | AUC=0.696152, Acc=0.681361\n"
          ]
        },
        {
          "output_type": "stream",
          "name": "stderr",
          "text": [
            "Epoch 29: 100%|██████████| 533/533 [00:08<00:00, 65.43it/s]\n"
          ]
        },
        {
          "output_type": "stream",
          "name": "stdout",
          "text": [
            "[Epoch 29] Loss=0.523270 | AUC=0.696236, Acc=0.681786\n"
          ]
        },
        {
          "output_type": "stream",
          "name": "stderr",
          "text": [
            "Epoch 30: 100%|██████████| 533/533 [00:08<00:00, 62.76it/s]\n"
          ]
        },
        {
          "output_type": "stream",
          "name": "stdout",
          "text": [
            "[Epoch 30] Loss=0.521414 | AUC=0.696336, Acc=0.681918\n",
            "[Fold 2] final AUC=0.6963, Acc=0.6819\n",
            "\n",
            "=== Fold 3 ===\n"
          ]
        },
        {
          "output_type": "stream",
          "name": "stderr",
          "text": [
            "Epoch 1: 100%|██████████| 533/533 [00:06<00:00, 81.50it/s]\n"
          ]
        },
        {
          "output_type": "stream",
          "name": "stdout",
          "text": [
            "[Epoch 1] Loss=0.667447 | AUC=0.678827, Acc=0.681297\n"
          ]
        },
        {
          "output_type": "stream",
          "name": "stderr",
          "text": [
            "Epoch 2: 100%|██████████| 533/533 [00:06<00:00, 82.84it/s]\n"
          ]
        },
        {
          "output_type": "stream",
          "name": "stdout",
          "text": [
            "[Epoch 2] Loss=0.637332 | AUC=0.682925, Acc=0.678230\n"
          ]
        },
        {
          "output_type": "stream",
          "name": "stderr",
          "text": [
            "Epoch 3: 100%|██████████| 533/533 [00:07<00:00, 67.59it/s]\n"
          ]
        },
        {
          "output_type": "stream",
          "name": "stdout",
          "text": [
            "[Epoch 3] Loss=0.623301 | AUC=0.684811, Acc=0.675809\n"
          ]
        },
        {
          "output_type": "stream",
          "name": "stderr",
          "text": [
            "Epoch 4: 100%|██████████| 533/533 [00:07<00:00, 72.28it/s]\n"
          ]
        },
        {
          "output_type": "stream",
          "name": "stdout",
          "text": [
            "[Epoch 4] Loss=0.613802 | AUC=0.685920, Acc=0.673916\n"
          ]
        },
        {
          "output_type": "stream",
          "name": "stderr",
          "text": [
            "Epoch 5: 100%|██████████| 533/533 [00:08<00:00, 65.83it/s]\n"
          ]
        },
        {
          "output_type": "stream",
          "name": "stdout",
          "text": [
            "[Epoch 5] Loss=0.606392 | AUC=0.686861, Acc=0.673079\n"
          ]
        },
        {
          "output_type": "stream",
          "name": "stderr",
          "text": [
            "Epoch 6: 100%|██████████| 533/533 [00:08<00:00, 62.30it/s]\n"
          ]
        },
        {
          "output_type": "stream",
          "name": "stdout",
          "text": [
            "[Epoch 6] Loss=0.599397 | AUC=0.687492, Acc=0.672859\n"
          ]
        },
        {
          "output_type": "stream",
          "name": "stderr",
          "text": [
            "Epoch 7: 100%|██████████| 533/533 [00:07<00:00, 68.84it/s]\n"
          ]
        },
        {
          "output_type": "stream",
          "name": "stdout",
          "text": [
            "[Epoch 7] Loss=0.592882 | AUC=0.688090, Acc=0.671744\n"
          ]
        },
        {
          "output_type": "stream",
          "name": "stderr",
          "text": [
            "Epoch 8: 100%|██████████| 533/533 [00:08<00:00, 60.00it/s]\n"
          ]
        },
        {
          "output_type": "stream",
          "name": "stdout",
          "text": [
            "[Epoch 8] Loss=0.586934 | AUC=0.688639, Acc=0.671186\n"
          ]
        },
        {
          "output_type": "stream",
          "name": "stderr",
          "text": [
            "Epoch 9: 100%|██████████| 533/533 [00:08<00:00, 62.58it/s]\n"
          ]
        },
        {
          "output_type": "stream",
          "name": "stdout",
          "text": [
            "[Epoch 9] Loss=0.581163 | AUC=0.689104, Acc=0.671230\n"
          ]
        },
        {
          "output_type": "stream",
          "name": "stderr",
          "text": [
            "Epoch 10: 100%|██████████| 533/533 [00:08<00:00, 65.28it/s]\n"
          ]
        },
        {
          "output_type": "stream",
          "name": "stdout",
          "text": [
            "[Epoch 10] Loss=0.576192 | AUC=0.689570, Acc=0.671157\n"
          ]
        },
        {
          "output_type": "stream",
          "name": "stderr",
          "text": [
            "Epoch 11: 100%|██████████| 533/533 [00:07<00:00, 73.63it/s]\n"
          ]
        },
        {
          "output_type": "stream",
          "name": "stdout",
          "text": [
            "[Epoch 11] Loss=0.571517 | AUC=0.689941, Acc=0.670688\n"
          ]
        },
        {
          "output_type": "stream",
          "name": "stderr",
          "text": [
            "Epoch 12: 100%|██████████| 533/533 [00:08<00:00, 61.93it/s]\n"
          ]
        },
        {
          "output_type": "stream",
          "name": "stdout",
          "text": [
            "[Epoch 12] Loss=0.567170 | AUC=0.690318, Acc=0.671054\n"
          ]
        },
        {
          "output_type": "stream",
          "name": "stderr",
          "text": [
            "Epoch 13: 100%|██████████| 533/533 [00:08<00:00, 66.34it/s]\n"
          ]
        },
        {
          "output_type": "stream",
          "name": "stdout",
          "text": [
            "[Epoch 13] Loss=0.562773 | AUC=0.690634, Acc=0.670761\n"
          ]
        },
        {
          "output_type": "stream",
          "name": "stderr",
          "text": [
            "Epoch 14: 100%|██████████| 533/533 [00:07<00:00, 72.99it/s]\n"
          ]
        },
        {
          "output_type": "stream",
          "name": "stdout",
          "text": [
            "[Epoch 14] Loss=0.558706 | AUC=0.690933, Acc=0.670937\n"
          ]
        },
        {
          "output_type": "stream",
          "name": "stderr",
          "text": [
            "Epoch 15: 100%|██████████| 533/533 [00:08<00:00, 62.31it/s]\n"
          ]
        },
        {
          "output_type": "stream",
          "name": "stdout",
          "text": [
            "[Epoch 15] Loss=0.555205 | AUC=0.691194, Acc=0.671010\n"
          ]
        },
        {
          "output_type": "stream",
          "name": "stderr",
          "text": [
            "Epoch 16: 100%|██████████| 533/533 [00:08<00:00, 60.71it/s]\n"
          ]
        },
        {
          "output_type": "stream",
          "name": "stdout",
          "text": [
            "[Epoch 16] Loss=0.551888 | AUC=0.691466, Acc=0.671172\n"
          ]
        },
        {
          "output_type": "stream",
          "name": "stderr",
          "text": [
            "Epoch 17: 100%|██████████| 533/533 [00:07<00:00, 72.82it/s]\n"
          ]
        },
        {
          "output_type": "stream",
          "name": "stdout",
          "text": [
            "[Epoch 17] Loss=0.548806 | AUC=0.691712, Acc=0.671407\n"
          ]
        },
        {
          "output_type": "stream",
          "name": "stderr",
          "text": [
            "Epoch 18: 100%|██████████| 533/533 [00:08<00:00, 62.91it/s]\n"
          ]
        },
        {
          "output_type": "stream",
          "name": "stdout",
          "text": [
            "[Epoch 18] Loss=0.545876 | AUC=0.691954, Acc=0.671495\n"
          ]
        },
        {
          "output_type": "stream",
          "name": "stderr",
          "text": [
            "Epoch 19: 100%|██████████| 533/533 [00:08<00:00, 63.48it/s]\n"
          ]
        },
        {
          "output_type": "stream",
          "name": "stdout",
          "text": [
            "[Epoch 19] Loss=0.542777 | AUC=0.692149, Acc=0.671583\n"
          ]
        },
        {
          "output_type": "stream",
          "name": "stderr",
          "text": [
            "Epoch 20: 100%|██████████| 533/533 [00:07<00:00, 72.47it/s]\n"
          ]
        },
        {
          "output_type": "stream",
          "name": "stdout",
          "text": [
            "[Epoch 20] Loss=0.540114 | AUC=0.692331, Acc=0.671583\n"
          ]
        },
        {
          "output_type": "stream",
          "name": "stderr",
          "text": [
            "Epoch 21: 100%|██████████| 533/533 [00:08<00:00, 63.32it/s]\n"
          ]
        },
        {
          "output_type": "stream",
          "name": "stdout",
          "text": [
            "[Epoch 21] Loss=0.537738 | AUC=0.692494, Acc=0.671685\n"
          ]
        },
        {
          "output_type": "stream",
          "name": "stderr",
          "text": [
            "Epoch 22: 100%|██████████| 533/533 [00:08<00:00, 62.40it/s]\n"
          ]
        },
        {
          "output_type": "stream",
          "name": "stdout",
          "text": [
            "[Epoch 22] Loss=0.535390 | AUC=0.692662, Acc=0.671847\n"
          ]
        },
        {
          "output_type": "stream",
          "name": "stderr",
          "text": [
            "Epoch 23: 100%|██████████| 533/533 [00:07<00:00, 71.04it/s]\n"
          ]
        },
        {
          "output_type": "stream",
          "name": "stdout",
          "text": [
            "[Epoch 23] Loss=0.533297 | AUC=0.692819, Acc=0.672492\n"
          ]
        },
        {
          "output_type": "stream",
          "name": "stderr",
          "text": [
            "Epoch 24: 100%|██████████| 533/533 [00:08<00:00, 62.45it/s]\n"
          ]
        },
        {
          "output_type": "stream",
          "name": "stdout",
          "text": [
            "[Epoch 24] Loss=0.531056 | AUC=0.692951, Acc=0.672507\n"
          ]
        },
        {
          "output_type": "stream",
          "name": "stderr",
          "text": [
            "Epoch 25: 100%|██████████| 533/533 [00:08<00:00, 61.87it/s]\n"
          ]
        },
        {
          "output_type": "stream",
          "name": "stdout",
          "text": [
            "[Epoch 25] Loss=0.528841 | AUC=0.693116, Acc=0.672830\n"
          ]
        },
        {
          "output_type": "stream",
          "name": "stderr",
          "text": [
            "Epoch 26: 100%|██████████| 533/533 [00:07<00:00, 72.76it/s]\n"
          ]
        },
        {
          "output_type": "stream",
          "name": "stdout",
          "text": [
            "[Epoch 26] Loss=0.527552 | AUC=0.693231, Acc=0.672654\n"
          ]
        },
        {
          "output_type": "stream",
          "name": "stderr",
          "text": [
            "Epoch 27: 100%|██████████| 533/533 [00:08<00:00, 64.10it/s]\n"
          ]
        },
        {
          "output_type": "stream",
          "name": "stdout",
          "text": [
            "[Epoch 27] Loss=0.525532 | AUC=0.693355, Acc=0.673065\n"
          ]
        },
        {
          "output_type": "stream",
          "name": "stderr",
          "text": [
            "Epoch 28: 100%|██████████| 533/533 [00:08<00:00, 63.76it/s]\n"
          ]
        },
        {
          "output_type": "stream",
          "name": "stdout",
          "text": [
            "[Epoch 28] Loss=0.523791 | AUC=0.693437, Acc=0.672991\n"
          ]
        },
        {
          "output_type": "stream",
          "name": "stderr",
          "text": [
            "Epoch 29: 100%|██████████| 533/533 [00:07<00:00, 73.59it/s]\n"
          ]
        },
        {
          "output_type": "stream",
          "name": "stdout",
          "text": [
            "[Epoch 29] Loss=0.522452 | AUC=0.693508, Acc=0.673123\n"
          ]
        },
        {
          "output_type": "stream",
          "name": "stderr",
          "text": [
            "Epoch 30: 100%|██████████| 533/533 [00:08<00:00, 65.52it/s]\n"
          ]
        },
        {
          "output_type": "stream",
          "name": "stdout",
          "text": [
            "[Epoch 30] Loss=0.520967 | AUC=0.693590, Acc=0.673578\n",
            "[Fold 3] final AUC=0.6936, Acc=0.6736\n",
            "\n",
            "=== Fold 4 ===\n"
          ]
        },
        {
          "output_type": "stream",
          "name": "stderr",
          "text": [
            "Epoch 1: 100%|██████████| 533/533 [00:07<00:00, 72.95it/s]\n"
          ]
        },
        {
          "output_type": "stream",
          "name": "stdout",
          "text": [
            "[Epoch 1] Loss=0.667477 | AUC=0.691404, Acc=0.684320\n"
          ]
        },
        {
          "output_type": "stream",
          "name": "stderr",
          "text": [
            "Epoch 2: 100%|██████████| 533/533 [00:06<00:00, 87.04it/s]\n"
          ]
        },
        {
          "output_type": "stream",
          "name": "stdout",
          "text": [
            "[Epoch 2] Loss=0.636987 | AUC=0.695602, Acc=0.683161\n"
          ]
        },
        {
          "output_type": "stream",
          "name": "stderr",
          "text": [
            "Epoch 3: 100%|██████████| 533/533 [00:07<00:00, 67.79it/s]\n"
          ]
        },
        {
          "output_type": "stream",
          "name": "stdout",
          "text": [
            "[Epoch 3] Loss=0.623322 | AUC=0.697376, Acc=0.681356\n"
          ]
        },
        {
          "output_type": "stream",
          "name": "stderr",
          "text": [
            "Epoch 4: 100%|██████████| 533/533 [00:08<00:00, 62.93it/s]\n"
          ]
        },
        {
          "output_type": "stream",
          "name": "stdout",
          "text": [
            "[Epoch 4] Loss=0.614498 | AUC=0.698517, Acc=0.680035\n"
          ]
        },
        {
          "output_type": "stream",
          "name": "stderr",
          "text": [
            "Epoch 5: 100%|██████████| 533/533 [00:08<00:00, 66.24it/s]\n"
          ]
        },
        {
          "output_type": "stream",
          "name": "stdout",
          "text": [
            "[Epoch 5] Loss=0.606480 | AUC=0.699235, Acc=0.678861\n"
          ]
        },
        {
          "output_type": "stream",
          "name": "stderr",
          "text": [
            "Epoch 6: 100%|██████████| 533/533 [00:08<00:00, 61.86it/s]\n"
          ]
        },
        {
          "output_type": "stream",
          "name": "stdout",
          "text": [
            "[Epoch 6] Loss=0.599615 | AUC=0.699837, Acc=0.678010\n"
          ]
        },
        {
          "output_type": "stream",
          "name": "stderr",
          "text": [
            "Epoch 7: 100%|██████████| 533/533 [00:08<00:00, 65.44it/s]\n"
          ]
        },
        {
          "output_type": "stream",
          "name": "stdout",
          "text": [
            "[Epoch 7] Loss=0.593494 | AUC=0.700375, Acc=0.677291\n"
          ]
        },
        {
          "output_type": "stream",
          "name": "stderr",
          "text": [
            "Epoch 8: 100%|██████████| 533/533 [00:07<00:00, 71.65it/s]\n"
          ]
        },
        {
          "output_type": "stream",
          "name": "stdout",
          "text": [
            "[Epoch 8] Loss=0.587724 | AUC=0.700856, Acc=0.677100\n"
          ]
        },
        {
          "output_type": "stream",
          "name": "stderr",
          "text": [
            "Epoch 9: 100%|██████████| 533/533 [00:08<00:00, 63.33it/s]\n"
          ]
        },
        {
          "output_type": "stream",
          "name": "stdout",
          "text": [
            "[Epoch 9] Loss=0.581846 | AUC=0.701347, Acc=0.677130\n"
          ]
        },
        {
          "output_type": "stream",
          "name": "stderr",
          "text": [
            "Epoch 10: 100%|██████████| 533/533 [00:08<00:00, 64.57it/s]\n"
          ]
        },
        {
          "output_type": "stream",
          "name": "stdout",
          "text": [
            "[Epoch 10] Loss=0.576757 | AUC=0.701737, Acc=0.676851\n"
          ]
        },
        {
          "output_type": "stream",
          "name": "stderr",
          "text": [
            "Epoch 11: 100%|██████████| 533/533 [00:07<00:00, 73.60it/s]\n"
          ]
        },
        {
          "output_type": "stream",
          "name": "stdout",
          "text": [
            "[Epoch 11] Loss=0.572264 | AUC=0.702117, Acc=0.676910\n"
          ]
        },
        {
          "output_type": "stream",
          "name": "stderr",
          "text": [
            "Epoch 12: 100%|██████████| 533/533 [00:08<00:00, 64.04it/s]\n"
          ]
        },
        {
          "output_type": "stream",
          "name": "stdout",
          "text": [
            "[Epoch 12] Loss=0.567912 | AUC=0.702431, Acc=0.676601\n"
          ]
        },
        {
          "output_type": "stream",
          "name": "stderr",
          "text": [
            "Epoch 13: 100%|██████████| 533/533 [00:07<00:00, 66.81it/s]\n"
          ]
        },
        {
          "output_type": "stream",
          "name": "stdout",
          "text": [
            "[Epoch 13] Loss=0.563631 | AUC=0.702735, Acc=0.676601\n"
          ]
        },
        {
          "output_type": "stream",
          "name": "stderr",
          "text": [
            "Epoch 14: 100%|██████████| 533/533 [00:07<00:00, 70.46it/s]\n"
          ]
        },
        {
          "output_type": "stream",
          "name": "stdout",
          "text": [
            "[Epoch 14] Loss=0.559565 | AUC=0.703042, Acc=0.676748\n"
          ]
        },
        {
          "output_type": "stream",
          "name": "stderr",
          "text": [
            "Epoch 15: 100%|██████████| 533/533 [00:08<00:00, 61.29it/s]\n"
          ]
        },
        {
          "output_type": "stream",
          "name": "stdout",
          "text": [
            "[Epoch 15] Loss=0.556124 | AUC=0.703375, Acc=0.676792\n"
          ]
        },
        {
          "output_type": "stream",
          "name": "stderr",
          "text": [
            "Epoch 16: 100%|██████████| 533/533 [00:08<00:00, 62.45it/s]\n"
          ]
        },
        {
          "output_type": "stream",
          "name": "stdout",
          "text": [
            "[Epoch 16] Loss=0.552869 | AUC=0.703613, Acc=0.676895\n"
          ]
        },
        {
          "output_type": "stream",
          "name": "stderr",
          "text": [
            "Epoch 17: 100%|██████████| 533/533 [00:07<00:00, 70.51it/s]\n"
          ]
        },
        {
          "output_type": "stream",
          "name": "stdout",
          "text": [
            "[Epoch 17] Loss=0.549668 | AUC=0.703822, Acc=0.676631\n"
          ]
        },
        {
          "output_type": "stream",
          "name": "stderr",
          "text": [
            "Epoch 18: 100%|██████████| 533/533 [00:08<00:00, 62.67it/s]\n"
          ]
        },
        {
          "output_type": "stream",
          "name": "stdout",
          "text": [
            "[Epoch 18] Loss=0.546680 | AUC=0.704056, Acc=0.676880\n"
          ]
        },
        {
          "output_type": "stream",
          "name": "stderr",
          "text": [
            "Epoch 19: 100%|██████████| 533/533 [00:08<00:00, 62.37it/s]\n"
          ]
        },
        {
          "output_type": "stream",
          "name": "stdout",
          "text": [
            "[Epoch 19] Loss=0.543978 | AUC=0.704263, Acc=0.677144\n"
          ]
        },
        {
          "output_type": "stream",
          "name": "stderr",
          "text": [
            "Epoch 20: 100%|██████████| 533/533 [00:07<00:00, 72.95it/s]\n"
          ]
        },
        {
          "output_type": "stream",
          "name": "stdout",
          "text": [
            "[Epoch 20] Loss=0.541429 | AUC=0.704441, Acc=0.677012\n"
          ]
        },
        {
          "output_type": "stream",
          "name": "stderr",
          "text": [
            "Epoch 21: 100%|██████████| 533/533 [00:08<00:00, 64.82it/s]\n"
          ]
        },
        {
          "output_type": "stream",
          "name": "stdout",
          "text": [
            "[Epoch 21] Loss=0.538668 | AUC=0.704646, Acc=0.677100\n"
          ]
        },
        {
          "output_type": "stream",
          "name": "stderr",
          "text": [
            "Epoch 22: 100%|██████████| 533/533 [00:08<00:00, 63.62it/s]\n"
          ]
        },
        {
          "output_type": "stream",
          "name": "stdout",
          "text": [
            "[Epoch 22] Loss=0.536799 | AUC=0.704807, Acc=0.677306\n"
          ]
        },
        {
          "output_type": "stream",
          "name": "stderr",
          "text": [
            "Epoch 23: 100%|██████████| 533/533 [00:07<00:00, 68.72it/s]\n"
          ]
        },
        {
          "output_type": "stream",
          "name": "stdout",
          "text": [
            "[Epoch 23] Loss=0.534445 | AUC=0.704944, Acc=0.677394\n"
          ]
        },
        {
          "output_type": "stream",
          "name": "stderr",
          "text": [
            "Epoch 24: 100%|██████████| 533/533 [00:08<00:00, 61.03it/s]\n"
          ]
        },
        {
          "output_type": "stream",
          "name": "stdout",
          "text": [
            "[Epoch 24] Loss=0.532425 | AUC=0.705068, Acc=0.677379\n"
          ]
        },
        {
          "output_type": "stream",
          "name": "stderr",
          "text": [
            "Epoch 25: 100%|██████████| 533/533 [00:08<00:00, 62.67it/s]\n"
          ]
        },
        {
          "output_type": "stream",
          "name": "stdout",
          "text": [
            "[Epoch 25] Loss=0.530261 | AUC=0.705218, Acc=0.677526\n"
          ]
        },
        {
          "output_type": "stream",
          "name": "stderr",
          "text": [
            "Epoch 26: 100%|██████████| 533/533 [00:07<00:00, 73.38it/s]\n"
          ]
        },
        {
          "output_type": "stream",
          "name": "stdout",
          "text": [
            "[Epoch 26] Loss=0.528605 | AUC=0.705298, Acc=0.677394\n"
          ]
        },
        {
          "output_type": "stream",
          "name": "stderr",
          "text": [
            "Epoch 27: 100%|██████████| 533/533 [00:08<00:00, 61.21it/s]\n"
          ]
        },
        {
          "output_type": "stream",
          "name": "stdout",
          "text": [
            "[Epoch 27] Loss=0.526968 | AUC=0.705410, Acc=0.677702\n"
          ]
        },
        {
          "output_type": "stream",
          "name": "stderr",
          "text": [
            "Epoch 28: 100%|██████████| 533/533 [00:08<00:00, 61.60it/s]\n"
          ]
        },
        {
          "output_type": "stream",
          "name": "stdout",
          "text": [
            "[Epoch 28] Loss=0.525342 | AUC=0.705497, Acc=0.677819\n"
          ]
        },
        {
          "output_type": "stream",
          "name": "stderr",
          "text": [
            "Epoch 29: 100%|██████████| 533/533 [00:07<00:00, 73.29it/s]\n"
          ]
        },
        {
          "output_type": "stream",
          "name": "stdout",
          "text": [
            "[Epoch 29] Loss=0.523598 | AUC=0.705565, Acc=0.677878\n"
          ]
        },
        {
          "output_type": "stream",
          "name": "stderr",
          "text": [
            "Epoch 30: 100%|██████████| 533/533 [00:08<00:00, 65.68it/s]\n"
          ]
        },
        {
          "output_type": "stream",
          "name": "stdout",
          "text": [
            "[Epoch 30] Loss=0.522000 | AUC=0.705659, Acc=0.678098\n",
            "[Fold 4] final AUC=0.7057, Acc=0.6781\n",
            "\n",
            "=== Fold 5 ===\n"
          ]
        },
        {
          "output_type": "stream",
          "name": "stderr",
          "text": [
            "Epoch 1: 100%|██████████| 533/533 [00:08<00:00, 62.55it/s]\n"
          ]
        },
        {
          "output_type": "stream",
          "name": "stdout",
          "text": [
            "[Epoch 1] Loss=0.667437 | AUC=0.685789, Acc=0.685612\n"
          ]
        },
        {
          "output_type": "stream",
          "name": "stderr",
          "text": [
            "Epoch 2: 100%|██████████| 533/533 [00:06<00:00, 87.33it/s]\n"
          ]
        },
        {
          "output_type": "stream",
          "name": "stdout",
          "text": [
            "[Epoch 2] Loss=0.637342 | AUC=0.688935, Acc=0.682163\n"
          ]
        },
        {
          "output_type": "stream",
          "name": "stderr",
          "text": [
            "Epoch 3: 100%|██████████| 533/533 [00:07<00:00, 71.12it/s]\n"
          ]
        },
        {
          "output_type": "stream",
          "name": "stdout",
          "text": [
            "[Epoch 3] Loss=0.623940 | AUC=0.690402, Acc=0.679125\n"
          ]
        },
        {
          "output_type": "stream",
          "name": "stderr",
          "text": [
            "Epoch 4: 100%|██████████| 533/533 [00:08<00:00, 60.97it/s]\n"
          ]
        },
        {
          "output_type": "stream",
          "name": "stdout",
          "text": [
            "[Epoch 4] Loss=0.614719 | AUC=0.691281, Acc=0.676381\n"
          ]
        },
        {
          "output_type": "stream",
          "name": "stderr",
          "text": [
            "Epoch 5: 100%|██████████| 533/533 [00:07<00:00, 72.23it/s]\n"
          ]
        },
        {
          "output_type": "stream",
          "name": "stdout",
          "text": [
            "[Epoch 5] Loss=0.606790 | AUC=0.691884, Acc=0.674297\n"
          ]
        },
        {
          "output_type": "stream",
          "name": "stderr",
          "text": [
            "Epoch 6: 100%|██████████| 533/533 [00:07<00:00, 67.22it/s]\n"
          ]
        },
        {
          "output_type": "stream",
          "name": "stdout",
          "text": [
            "[Epoch 6] Loss=0.599899 | AUC=0.692457, Acc=0.673549\n"
          ]
        },
        {
          "output_type": "stream",
          "name": "stderr",
          "text": [
            "Epoch 7: 100%|██████████| 533/533 [00:08<00:00, 63.47it/s]\n"
          ]
        },
        {
          "output_type": "stream",
          "name": "stdout",
          "text": [
            "[Epoch 7] Loss=0.593463 | AUC=0.692935, Acc=0.672977\n"
          ]
        },
        {
          "output_type": "stream",
          "name": "stderr",
          "text": [
            "Epoch 8: 100%|██████████| 533/533 [00:07<00:00, 71.80it/s]\n"
          ]
        },
        {
          "output_type": "stream",
          "name": "stdout",
          "text": [
            "[Epoch 8] Loss=0.587557 | AUC=0.693410, Acc=0.672669\n"
          ]
        },
        {
          "output_type": "stream",
          "name": "stderr",
          "text": [
            "Epoch 9: 100%|██████████| 533/533 [00:07<00:00, 67.66it/s]\n"
          ]
        },
        {
          "output_type": "stream",
          "name": "stdout",
          "text": [
            "[Epoch 9] Loss=0.582257 | AUC=0.693852, Acc=0.672184\n"
          ]
        },
        {
          "output_type": "stream",
          "name": "stderr",
          "text": [
            "Epoch 10: 100%|██████████| 533/533 [00:08<00:00, 61.36it/s]\n"
          ]
        },
        {
          "output_type": "stream",
          "name": "stdout",
          "text": [
            "[Epoch 10] Loss=0.577249 | AUC=0.694250, Acc=0.671627\n"
          ]
        },
        {
          "output_type": "stream",
          "name": "stderr",
          "text": [
            "Epoch 11: 100%|██████████| 533/533 [00:07<00:00, 68.36it/s]\n"
          ]
        },
        {
          "output_type": "stream",
          "name": "stdout",
          "text": [
            "[Epoch 11] Loss=0.571993 | AUC=0.694648, Acc=0.671715\n"
          ]
        },
        {
          "output_type": "stream",
          "name": "stderr",
          "text": [
            "Epoch 12: 100%|██████████| 533/533 [00:07<00:00, 69.02it/s]\n"
          ]
        },
        {
          "output_type": "stream",
          "name": "stdout",
          "text": [
            "[Epoch 12] Loss=0.567856 | AUC=0.695001, Acc=0.671715\n"
          ]
        },
        {
          "output_type": "stream",
          "name": "stderr",
          "text": [
            "Epoch 13: 100%|██████████| 533/533 [00:08<00:00, 64.95it/s]\n"
          ]
        },
        {
          "output_type": "stream",
          "name": "stdout",
          "text": [
            "[Epoch 13] Loss=0.563725 | AUC=0.695282, Acc=0.671436\n"
          ]
        },
        {
          "output_type": "stream",
          "name": "stderr",
          "text": [
            "Epoch 14: 100%|██████████| 533/533 [00:07<00:00, 68.61it/s]\n"
          ]
        },
        {
          "output_type": "stream",
          "name": "stdout",
          "text": [
            "[Epoch 14] Loss=0.560048 | AUC=0.695616, Acc=0.671524\n"
          ]
        },
        {
          "output_type": "stream",
          "name": "stderr",
          "text": [
            "Epoch 15: 100%|██████████| 533/533 [00:07<00:00, 67.78it/s]\n"
          ]
        },
        {
          "output_type": "stream",
          "name": "stdout",
          "text": [
            "[Epoch 15] Loss=0.556331 | AUC=0.695954, Acc=0.671685\n"
          ]
        },
        {
          "output_type": "stream",
          "name": "stderr",
          "text": [
            "Epoch 16: 100%|██████████| 533/533 [00:08<00:00, 62.65it/s]\n"
          ]
        },
        {
          "output_type": "stream",
          "name": "stdout",
          "text": [
            "[Epoch 16] Loss=0.553013 | AUC=0.696240, Acc=0.671759\n"
          ]
        },
        {
          "output_type": "stream",
          "name": "stderr",
          "text": [
            "Epoch 17: 100%|██████████| 533/533 [00:08<00:00, 64.99it/s]\n"
          ]
        },
        {
          "output_type": "stream",
          "name": "stdout",
          "text": [
            "[Epoch 17] Loss=0.549921 | AUC=0.696486, Acc=0.671876\n"
          ]
        },
        {
          "output_type": "stream",
          "name": "stderr",
          "text": [
            "Epoch 18: 100%|██████████| 533/533 [00:07<00:00, 69.90it/s]\n"
          ]
        },
        {
          "output_type": "stream",
          "name": "stdout",
          "text": [
            "[Epoch 18] Loss=0.546762 | AUC=0.696723, Acc=0.672023\n"
          ]
        },
        {
          "output_type": "stream",
          "name": "stderr",
          "text": [
            "Epoch 19: 100%|██████████| 533/533 [00:08<00:00, 63.52it/s]\n"
          ]
        },
        {
          "output_type": "stream",
          "name": "stdout",
          "text": [
            "[Epoch 19] Loss=0.544021 | AUC=0.696965, Acc=0.672170\n"
          ]
        },
        {
          "output_type": "stream",
          "name": "stderr",
          "text": [
            "Epoch 20: 100%|██████████| 533/533 [00:08<00:00, 65.20it/s]\n"
          ]
        },
        {
          "output_type": "stream",
          "name": "stdout",
          "text": [
            "[Epoch 20] Loss=0.541333 | AUC=0.697131, Acc=0.672214\n"
          ]
        },
        {
          "output_type": "stream",
          "name": "stderr",
          "text": [
            "Epoch 21: 100%|██████████| 533/533 [00:07<00:00, 71.45it/s]\n"
          ]
        },
        {
          "output_type": "stream",
          "name": "stdout",
          "text": [
            "[Epoch 21] Loss=0.539245 | AUC=0.697297, Acc=0.672155\n"
          ]
        },
        {
          "output_type": "stream",
          "name": "stderr",
          "text": [
            "Epoch 22: 100%|██████████| 533/533 [00:08<00:00, 61.59it/s]\n"
          ]
        },
        {
          "output_type": "stream",
          "name": "stdout",
          "text": [
            "[Epoch 22] Loss=0.536363 | AUC=0.697490, Acc=0.672625\n"
          ]
        },
        {
          "output_type": "stream",
          "name": "stderr",
          "text": [
            "Epoch 23: 100%|██████████| 533/533 [00:08<00:00, 64.88it/s]\n"
          ]
        },
        {
          "output_type": "stream",
          "name": "stdout",
          "text": [
            "[Epoch 23] Loss=0.534392 | AUC=0.697614, Acc=0.672507\n"
          ]
        },
        {
          "output_type": "stream",
          "name": "stderr",
          "text": [
            "Epoch 24: 100%|██████████| 533/533 [00:07<00:00, 74.31it/s]\n"
          ]
        },
        {
          "output_type": "stream",
          "name": "stdout",
          "text": [
            "[Epoch 24] Loss=0.532381 | AUC=0.697770, Acc=0.672537\n"
          ]
        },
        {
          "output_type": "stream",
          "name": "stderr",
          "text": [
            "Epoch 25: 100%|██████████| 533/533 [00:08<00:00, 63.09it/s]\n"
          ]
        },
        {
          "output_type": "stream",
          "name": "stdout",
          "text": [
            "[Epoch 25] Loss=0.530267 | AUC=0.697922, Acc=0.672918\n"
          ]
        },
        {
          "output_type": "stream",
          "name": "stderr",
          "text": [
            "Epoch 26: 100%|██████████| 533/533 [00:08<00:00, 64.32it/s]\n"
          ]
        },
        {
          "output_type": "stream",
          "name": "stdout",
          "text": [
            "[Epoch 26] Loss=0.528674 | AUC=0.698020, Acc=0.672859\n"
          ]
        },
        {
          "output_type": "stream",
          "name": "stderr",
          "text": [
            "Epoch 27: 100%|██████████| 533/533 [00:07<00:00, 70.00it/s]\n"
          ]
        },
        {
          "output_type": "stream",
          "name": "stdout",
          "text": [
            "[Epoch 27] Loss=0.527006 | AUC=0.698143, Acc=0.673006\n"
          ]
        },
        {
          "output_type": "stream",
          "name": "stderr",
          "text": [
            "Epoch 28: 100%|██████████| 533/533 [00:10<00:00, 52.62it/s]\n"
          ]
        },
        {
          "output_type": "stream",
          "name": "stdout",
          "text": [
            "[Epoch 28] Loss=0.525361 | AUC=0.698256, Acc=0.673138\n"
          ]
        },
        {
          "output_type": "stream",
          "name": "stderr",
          "text": [
            "Epoch 29: 100%|██████████| 533/533 [00:08<00:00, 62.33it/s]\n"
          ]
        },
        {
          "output_type": "stream",
          "name": "stdout",
          "text": [
            "[Epoch 29] Loss=0.523704 | AUC=0.698341, Acc=0.673476\n"
          ]
        },
        {
          "output_type": "stream",
          "name": "stderr",
          "text": [
            "Epoch 30: 100%|██████████| 533/533 [00:07<00:00, 71.90it/s]\n"
          ]
        },
        {
          "output_type": "stream",
          "name": "stdout",
          "text": [
            "[Epoch 30] Loss=0.522352 | AUC=0.698414, Acc=0.673446\n",
            "[Fold 5] final AUC=0.6984, Acc=0.6734\n",
            "\n",
            "--- Hasil Cross-Validation (MIRT untuk POMDP) ---\n",
            "AUC rata-rata: 0.6993 ± 0.0048\n",
            "Akurasi rata-rata: 0.6768 ± 0.0035\n"
          ]
        }
      ]
    },
    {
      "cell_type": "markdown",
      "source": [
        "Ekstraksi Parameter MIRT\n",
        "\n",
        "Setelah training, model terbaik diambil lalu parameternya diekstrak untuk POMDP:\n",
        "\n",
        "- theta_all: embedding kemampuan user\n",
        "- a: discrimination item\n",
        "- b: difficulty item"
      ],
      "metadata": {
        "id": "j8wdjEQgFXhB"
      }
    },
    {
      "cell_type": "code",
      "source": [
        "import re\n",
        "import matplotlib.pyplot as plt\n",
        "import pandas as pd\n",
        "\n",
        "# ===========================================\n",
        "# MASUKKAN LOG TRAINING MIRT (hasil print lengkap)\n",
        "# ===========================================\n",
        "log_text = \"\"\"\n",
        "[Using device: cpu\n",
        "\n",
        "=== Fold 1 ===\n",
        "Epoch 1: 100%|██████████| 533/533 [00:06<00:00, 82.41it/s]\n",
        "[Epoch 1] Loss=0.667128 | AUC=0.688275, Acc=0.683342\n",
        "Epoch 2: 100%|██████████| 533/533 [00:06<00:00, 84.08it/s]\n",
        "[Epoch 2] Loss=0.635976 | AUC=0.692213, Acc=0.680994\n",
        "Epoch 3: 100%|██████████| 533/533 [00:07<00:00, 67.68it/s]\n",
        "[Epoch 3] Loss=0.621845 | AUC=0.694241, Acc=0.679424\n",
        "Epoch 4: 100%|██████████| 533/533 [00:07<00:00, 71.89it/s]\n",
        "[Epoch 4] Loss=0.612774 | AUC=0.695363, Acc=0.677677\n",
        "Epoch 5: 100%|██████████| 533/533 [00:07<00:00, 69.12it/s]\n",
        "[Epoch 5] Loss=0.605603 | AUC=0.696290, Acc=0.676900\n",
        "Epoch 6: 100%|██████████| 533/533 [00:08<00:00, 63.93it/s]\n",
        "[Epoch 6] Loss=0.598368 | AUC=0.696946, Acc=0.675638\n",
        "Epoch 7: 100%|██████████| 533/533 [00:07<00:00, 74.21it/s]\n",
        "[Epoch 7] Loss=0.592012 | AUC=0.697524, Acc=0.675344\n",
        "Epoch 8: 100%|██████████| 533/533 [00:07<00:00, 68.58it/s]\n",
        "[Epoch 8] Loss=0.585860 | AUC=0.697995, Acc=0.675168\n",
        "Epoch 9: 100%|██████████| 533/533 [00:09<00:00, 53.75it/s]\n",
        "[Epoch 9] Loss=0.580629 | AUC=0.698470, Acc=0.675139\n",
        "Epoch 10: 100%|██████████| 533/533 [00:08<00:00, 65.38it/s]\n",
        "[Epoch 10] Loss=0.575649 | AUC=0.698865, Acc=0.675080\n",
        "Epoch 11: 100%|██████████| 533/533 [00:07<00:00, 73.39it/s]\n",
        "[Epoch 11] Loss=0.570559 | AUC=0.699197, Acc=0.674992\n",
        "Epoch 12: 100%|██████████| 533/533 [00:08<00:00, 63.14it/s]\n",
        "[Epoch 12] Loss=0.566463 | AUC=0.699585, Acc=0.675139\n",
        "Epoch 13: 100%|██████████| 533/533 [00:09<00:00, 56.58it/s]\n",
        "[Epoch 13] Loss=0.562389 | AUC=0.699890, Acc=0.675153\n",
        "Epoch 14: 100%|██████████| 533/533 [00:07<00:00, 74.65it/s]\n",
        "[Epoch 14] Loss=0.558019 | AUC=0.700194, Acc=0.675241\n",
        "Epoch 15: 100%|██████████| 533/533 [00:07<00:00, 69.85it/s]\n",
        "[Epoch 15] Loss=0.554426 | AUC=0.700445, Acc=0.675021\n",
        "Epoch 16: 100%|██████████| 533/533 [00:09<00:00, 55.59it/s]\n",
        "[Epoch 16] Loss=0.551314 | AUC=0.700710, Acc=0.675227\n",
        "Epoch 17: 100%|██████████| 533/533 [00:07<00:00, 69.12it/s]\n",
        "[Epoch 17] Loss=0.547828 | AUC=0.700908, Acc=0.675447\n",
        "Epoch 18: 100%|██████████| 533/533 [00:07<00:00, 69.75it/s]\n",
        "[Epoch 18] Loss=0.544945 | AUC=0.701088, Acc=0.675359\n",
        "Epoch 19: 100%|██████████| 533/533 [00:08<00:00, 65.03it/s]\n",
        "[Epoch 19] Loss=0.542246 | AUC=0.701267, Acc=0.675667\n",
        "Epoch 20: 100%|██████████| 533/533 [00:07<00:00, 69.73it/s]\n",
        "[Epoch 20] Loss=0.539650 | AUC=0.701438, Acc=0.675462\n",
        "Epoch 21: 100%|██████████| 533/533 [00:07<00:00, 69.95it/s]\n",
        "[Epoch 21] Loss=0.537203 | AUC=0.701594, Acc=0.675535\n",
        "Epoch 22: 100%|██████████| 533/533 [00:08<00:00, 62.62it/s]\n",
        "[Epoch 22] Loss=0.535121 | AUC=0.701736, Acc=0.675506\n",
        "Epoch 23: 100%|██████████| 533/533 [00:07<00:00, 68.35it/s]\n",
        "[Epoch 23] Loss=0.532709 | AUC=0.701857, Acc=0.675623\n",
        "Epoch 24: 100%|██████████| 533/533 [00:07<00:00, 70.13it/s]\n",
        "[Epoch 24] Loss=0.530733 | AUC=0.701946, Acc=0.675814\n",
        "Epoch 25: 100%|██████████| 533/533 [00:08<00:00, 65.61it/s]\n",
        "[Epoch 25] Loss=0.528503 | AUC=0.702027, Acc=0.675975\n",
        "Epoch 26: 100%|██████████| 533/533 [00:07<00:00, 70.53it/s]\n",
        "[Epoch 26] Loss=0.526891 | AUC=0.702108, Acc=0.676269\n",
        "Epoch 27: 100%|██████████| 533/533 [00:07<00:00, 68.96it/s]\n",
        "[Epoch 27] Loss=0.525128 | AUC=0.702204, Acc=0.676283\n",
        "Epoch 28: 100%|██████████| 533/533 [00:08<00:00, 62.50it/s]\n",
        "[Epoch 28] Loss=0.523586 | AUC=0.702300, Acc=0.676768\n",
        "Epoch 29: 100%|██████████| 533/533 [00:07<00:00, 70.10it/s]\n",
        "[Epoch 29] Loss=0.521838 | AUC=0.702344, Acc=0.676650\n",
        "Epoch 30: 100%|██████████| 533/533 [00:07<00:00, 72.33it/s]\n",
        "[Epoch 30] Loss=0.520473 | AUC=0.702424, Acc=0.676885\n",
        "[Fold 1] final AUC=0.7024, Acc=0.6769\n",
        "\n",
        "=== Fold 2 ===\n",
        "Epoch 1: 100%|██████████| 533/533 [00:07<00:00, 72.20it/s]\n",
        "[Epoch 1] Loss=0.667394 | AUC=0.680600, Acc=0.688390\n",
        "Epoch 2: 100%|██████████| 533/533 [00:06<00:00, 76.89it/s]\n",
        "[Epoch 2] Loss=0.637141 | AUC=0.684983, Acc=0.686365\n",
        "Epoch 3: 100%|██████████| 533/533 [00:07<00:00, 75.92it/s]\n",
        "[Epoch 3] Loss=0.623165 | AUC=0.687028, Acc=0.684648\n",
        "Epoch 4: 100%|██████████| 533/533 [00:08<00:00, 63.20it/s]\n",
        "[Epoch 4] Loss=0.614050 | AUC=0.688400, Acc=0.683136\n",
        "Epoch 5: 100%|██████████| 533/533 [00:07<00:00, 68.10it/s]\n",
        "[Epoch 5] Loss=0.606440 | AUC=0.689271, Acc=0.682197\n",
        "Epoch 6: 100%|██████████| 533/533 [00:14<00:00, 37.71it/s]\n",
        "[Epoch 6] Loss=0.599206 | AUC=0.690095, Acc=0.681038\n",
        "Epoch 7: 100%|██████████| 533/533 [00:07<00:00, 73.64it/s]\n",
        "[Epoch 7] Loss=0.592930 | AUC=0.690712, Acc=0.680260\n",
        "Epoch 8: 100%|██████████| 533/533 [00:08<00:00, 63.41it/s]\n",
        "[Epoch 8] Loss=0.587182 | AUC=0.691220, Acc=0.679644\n",
        "Epoch 9: 100%|██████████| 533/533 [00:08<00:00, 65.56it/s]\n",
        "[Epoch 9] Loss=0.581332 | AUC=0.691693, Acc=0.679321\n",
        "Epoch 10: 100%|██████████| 533/533 [00:07<00:00, 74.96it/s]\n",
        "[Epoch 10] Loss=0.576678 | AUC=0.692075, Acc=0.678939\n",
        "Epoch 11: 100%|██████████| 533/533 [00:08<00:00, 60.93it/s]\n",
        "[Epoch 11] Loss=0.571716 | AUC=0.692460, Acc=0.678793\n",
        "Epoch 12: 100%|██████████| 533/533 [00:09<00:00, 54.07it/s]\n",
        "[Epoch 12] Loss=0.567160 | AUC=0.692887, Acc=0.679115\n",
        "Epoch 13: 100%|██████████| 533/533 [00:07<00:00, 72.64it/s]\n",
        "[Epoch 13] Loss=0.563336 | AUC=0.693230, Acc=0.679130\n",
        "Epoch 14: 100%|██████████| 533/533 [00:08<00:00, 64.44it/s]\n",
        "[Epoch 14] Loss=0.559084 | AUC=0.693540, Acc=0.679013\n",
        "Epoch 15: 100%|██████████| 533/533 [00:08<00:00, 63.61it/s]\n",
        "[Epoch 15] Loss=0.555833 | AUC=0.693818, Acc=0.678822\n",
        "Epoch 16: 100%|██████████| 533/533 [00:07<00:00, 72.18it/s]\n",
        "[Epoch 16] Loss=0.552183 | AUC=0.694098, Acc=0.678910\n",
        "Epoch 17: 100%|██████████| 533/533 [00:08<00:00, 64.34it/s]\n",
        "[Epoch 17] Loss=0.549345 | AUC=0.694358, Acc=0.679336\n",
        "Epoch 18: 100%|██████████| 533/533 [00:08<00:00, 61.48it/s]\n",
        "[Epoch 18] Loss=0.546312 | AUC=0.694598, Acc=0.679380\n",
        "Epoch 19: 100%|██████████| 533/533 [00:07<00:00, 71.64it/s]\n",
        "[Epoch 19] Loss=0.543307 | AUC=0.694831, Acc=0.679600\n",
        "Epoch 20: 100%|██████████| 533/533 [00:07<00:00, 67.42it/s]\n",
        "[Epoch 20] Loss=0.540935 | AUC=0.695041, Acc=0.679878\n",
        "Epoch 21: 100%|██████████| 533/533 [00:08<00:00, 64.99it/s]\n",
        "[Epoch 21] Loss=0.538431 | AUC=0.695237, Acc=0.679923\n",
        "Epoch 22: 100%|██████████| 533/533 [00:07<00:00, 74.04it/s]\n",
        "[Epoch 22] Loss=0.536174 | AUC=0.695417, Acc=0.680304\n",
        "Epoch 23: 100%|██████████| 533/533 [00:08<00:00, 66.46it/s]\n",
        "[Epoch 23] Loss=0.533947 | AUC=0.695561, Acc=0.680319\n",
        "Epoch 24: 100%|██████████| 533/533 [00:08<00:00, 62.88it/s]\n",
        "[Epoch 24] Loss=0.531932 | AUC=0.695695, Acc=0.680583\n",
        "Epoch 25: 100%|██████████| 533/533 [00:07<00:00, 73.66it/s]\n",
        "[Epoch 25] Loss=0.529795 | AUC=0.695824, Acc=0.680686\n",
        "Epoch 26: 100%|██████████| 533/533 [00:07<00:00, 70.85it/s]\n",
        "[Epoch 26] Loss=0.528041 | AUC=0.695948, Acc=0.680920\n",
        "Epoch 27: 100%|██████████| 533/533 [00:08<00:00, 64.21it/s]\n",
        "[Epoch 27] Loss=0.526219 | AUC=0.696056, Acc=0.681317\n",
        "Epoch 28: 100%|██████████| 533/533 [00:07<00:00, 72.61it/s]\n",
        "[Epoch 28] Loss=0.524718 | AUC=0.696152, Acc=0.681361\n",
        "Epoch 29: 100%|██████████| 533/533 [00:08<00:00, 65.43it/s]\n",
        "[Epoch 29] Loss=0.523270 | AUC=0.696236, Acc=0.681786\n",
        "Epoch 30: 100%|██████████| 533/533 [00:08<00:00, 62.76it/s]\n",
        "[Epoch 30] Loss=0.521414 | AUC=0.696336, Acc=0.681918\n",
        "[Fold 2] final AUC=0.6963, Acc=0.6819\n",
        "\n",
        "=== Fold 3 ===\n",
        "Epoch 1: 100%|██████████| 533/533 [00:06<00:00, 81.50it/s]\n",
        "[Epoch 1] Loss=0.667447 | AUC=0.678827, Acc=0.681297\n",
        "Epoch 2: 100%|██████████| 533/533 [00:06<00:00, 82.84it/s]\n",
        "[Epoch 2] Loss=0.637332 | AUC=0.682925, Acc=0.678230\n",
        "Epoch 3: 100%|██████████| 533/533 [00:07<00:00, 67.59it/s]\n",
        "[Epoch 3] Loss=0.623301 | AUC=0.684811, Acc=0.675809\n",
        "Epoch 4: 100%|██████████| 533/533 [00:07<00:00, 72.28it/s]\n",
        "[Epoch 4] Loss=0.613802 | AUC=0.685920, Acc=0.673916\n",
        "Epoch 5: 100%|██████████| 533/533 [00:08<00:00, 65.83it/s]\n",
        "[Epoch 5] Loss=0.606392 | AUC=0.686861, Acc=0.673079\n",
        "Epoch 6: 100%|██████████| 533/533 [00:08<00:00, 62.30it/s]\n",
        "[Epoch 6] Loss=0.599397 | AUC=0.687492, Acc=0.672859\n",
        "Epoch 7: 100%|██████████| 533/533 [00:07<00:00, 68.84it/s]\n",
        "[Epoch 7] Loss=0.592882 | AUC=0.688090, Acc=0.671744\n",
        "Epoch 8: 100%|██████████| 533/533 [00:08<00:00, 60.00it/s]\n",
        "[Epoch 8] Loss=0.586934 | AUC=0.688639, Acc=0.671186\n",
        "Epoch 9: 100%|██████████| 533/533 [00:08<00:00, 62.58it/s]\n",
        "[Epoch 9] Loss=0.581163 | AUC=0.689104, Acc=0.671230\n",
        "Epoch 10: 100%|██████████| 533/533 [00:08<00:00, 65.28it/s]\n",
        "[Epoch 10] Loss=0.576192 | AUC=0.689570, Acc=0.671157\n",
        "Epoch 11: 100%|██████████| 533/533 [00:07<00:00, 73.63it/s]\n",
        "[Epoch 11] Loss=0.571517 | AUC=0.689941, Acc=0.670688\n",
        "Epoch 12: 100%|██████████| 533/533 [00:08<00:00, 61.93it/s]\n",
        "[Epoch 12] Loss=0.567170 | AUC=0.690318, Acc=0.671054\n",
        "Epoch 13: 100%|██████████| 533/533 [00:08<00:00, 66.34it/s]\n",
        "[Epoch 13] Loss=0.562773 | AUC=0.690634, Acc=0.670761\n",
        "Epoch 14: 100%|██████████| 533/533 [00:07<00:00, 72.99it/s]\n",
        "[Epoch 14] Loss=0.558706 | AUC=0.690933, Acc=0.670937\n",
        "Epoch 15: 100%|██████████| 533/533 [00:08<00:00, 62.31it/s]\n",
        "[Epoch 15] Loss=0.555205 | AUC=0.691194, Acc=0.671010\n",
        "Epoch 16: 100%|██████████| 533/533 [00:08<00:00, 60.71it/s]\n",
        "[Epoch 16] Loss=0.551888 | AUC=0.691466, Acc=0.671172\n",
        "Epoch 17: 100%|██████████| 533/533 [00:07<00:00, 72.82it/s]\n",
        "[Epoch 17] Loss=0.548806 | AUC=0.691712, Acc=0.671407\n",
        "Epoch 18: 100%|██████████| 533/533 [00:08<00:00, 62.91it/s]\n",
        "[Epoch 18] Loss=0.545876 | AUC=0.691954, Acc=0.671495\n",
        "Epoch 19: 100%|██████████| 533/533 [00:08<00:00, 63.48it/s]\n",
        "[Epoch 19] Loss=0.542777 | AUC=0.692149, Acc=0.671583\n",
        "Epoch 20: 100%|██████████| 533/533 [00:07<00:00, 72.47it/s]\n",
        "[Epoch 20] Loss=0.540114 | AUC=0.692331, Acc=0.671583\n",
        "Epoch 21: 100%|██████████| 533/533 [00:08<00:00, 63.32it/s]\n",
        "[Epoch 21] Loss=0.537738 | AUC=0.692494, Acc=0.671685\n",
        "Epoch 22: 100%|██████████| 533/533 [00:08<00:00, 62.40it/s]\n",
        "[Epoch 22] Loss=0.535390 | AUC=0.692662, Acc=0.671847\n",
        "Epoch 23: 100%|██████████| 533/533 [00:07<00:00, 71.04it/s]\n",
        "[Epoch 23] Loss=0.533297 | AUC=0.692819, Acc=0.672492\n",
        "Epoch 24: 100%|██████████| 533/533 [00:08<00:00, 62.45it/s]\n",
        "[Epoch 24] Loss=0.531056 | AUC=0.692951, Acc=0.672507\n",
        "Epoch 25: 100%|██████████| 533/533 [00:08<00:00, 61.87it/s]\n",
        "[Epoch 25] Loss=0.528841 | AUC=0.693116, Acc=0.672830\n",
        "Epoch 26: 100%|██████████| 533/533 [00:07<00:00, 72.76it/s]\n",
        "[Epoch 26] Loss=0.527552 | AUC=0.693231, Acc=0.672654\n",
        "Epoch 27: 100%|██████████| 533/533 [00:08<00:00, 64.10it/s]\n",
        "[Epoch 27] Loss=0.525532 | AUC=0.693355, Acc=0.673065\n",
        "Epoch 28: 100%|██████████| 533/533 [00:08<00:00, 63.76it/s]\n",
        "[Epoch 28] Loss=0.523791 | AUC=0.693437, Acc=0.672991\n",
        "Epoch 29: 100%|██████████| 533/533 [00:07<00:00, 73.59it/s]\n",
        "[Epoch 29] Loss=0.522452 | AUC=0.693508, Acc=0.673123\n",
        "Epoch 30: 100%|██████████| 533/533 [00:08<00:00, 65.52it/s]\n",
        "[Epoch 30] Loss=0.520967 | AUC=0.693590, Acc=0.673578\n",
        "[Fold 3] final AUC=0.6936, Acc=0.6736\n",
        "\n",
        "=== Fold 4 ===\n",
        "Epoch 1: 100%|██████████| 533/533 [00:07<00:00, 72.95it/s]\n",
        "[Epoch 1] Loss=0.667477 | AUC=0.691404, Acc=0.684320\n",
        "Epoch 2: 100%|██████████| 533/533 [00:06<00:00, 87.04it/s]\n",
        "[Epoch 2] Loss=0.636987 | AUC=0.695602, Acc=0.683161\n",
        "Epoch 3: 100%|██████████| 533/533 [00:07<00:00, 67.79it/s]\n",
        "[Epoch 3] Loss=0.623322 | AUC=0.697376, Acc=0.681356\n",
        "Epoch 4: 100%|██████████| 533/533 [00:08<00:00, 62.93it/s]\n",
        "[Epoch 4] Loss=0.614498 | AUC=0.698517, Acc=0.680035\n",
        "Epoch 5: 100%|██████████| 533/533 [00:08<00:00, 66.24it/s]\n",
        "[Epoch 5] Loss=0.606480 | AUC=0.699235, Acc=0.678861\n",
        "Epoch 6: 100%|██████████| 533/533 [00:08<00:00, 61.86it/s]\n",
        "[Epoch 6] Loss=0.599615 | AUC=0.699837, Acc=0.678010\n",
        "Epoch 7: 100%|██████████| 533/533 [00:08<00:00, 65.44it/s]\n",
        "[Epoch 7] Loss=0.593494 | AUC=0.700375, Acc=0.677291\n",
        "Epoch 8: 100%|██████████| 533/533 [00:07<00:00, 71.65it/s]\n",
        "[Epoch 8] Loss=0.587724 | AUC=0.700856, Acc=0.677100\n",
        "Epoch 9: 100%|██████████| 533/533 [00:08<00:00, 63.33it/s]\n",
        "[Epoch 9] Loss=0.581846 | AUC=0.701347, Acc=0.677130\n",
        "Epoch 10: 100%|██████████| 533/533 [00:08<00:00, 64.57it/s]\n",
        "[Epoch 10] Loss=0.576757 | AUC=0.701737, Acc=0.676851\n",
        "Epoch 11: 100%|██████████| 533/533 [00:07<00:00, 73.60it/s]\n",
        "[Epoch 11] Loss=0.572264 | AUC=0.702117, Acc=0.676910\n",
        "Epoch 12: 100%|██████████| 533/533 [00:08<00:00, 64.04it/s]\n",
        "[Epoch 12] Loss=0.567912 | AUC=0.702431, Acc=0.676601\n",
        "Epoch 13: 100%|██████████| 533/533 [00:07<00:00, 66.81it/s]\n",
        "[Epoch 13] Loss=0.563631 | AUC=0.702735, Acc=0.676601\n",
        "Epoch 14: 100%|██████████| 533/533 [00:07<00:00, 70.46it/s]\n",
        "[Epoch 14] Loss=0.559565 | AUC=0.703042, Acc=0.676748\n",
        "Epoch 15: 100%|██████████| 533/533 [00:08<00:00, 61.29it/s]\n",
        "[Epoch 15] Loss=0.556124 | AUC=0.703375, Acc=0.676792\n",
        "Epoch 16: 100%|██████████| 533/533 [00:08<00:00, 62.45it/s]\n",
        "[Epoch 16] Loss=0.552869 | AUC=0.703613, Acc=0.676895\n",
        "Epoch 17: 100%|██████████| 533/533 [00:07<00:00, 70.51it/s]\n",
        "[Epoch 17] Loss=0.549668 | AUC=0.703822, Acc=0.676631\n",
        "Epoch 18: 100%|██████████| 533/533 [00:08<00:00, 62.67it/s]\n",
        "[Epoch 18] Loss=0.546680 | AUC=0.704056, Acc=0.676880\n",
        "Epoch 19: 100%|██████████| 533/533 [00:08<00:00, 62.37it/s]\n",
        "[Epoch 19] Loss=0.543978 | AUC=0.704263, Acc=0.677144\n",
        "Epoch 20: 100%|██████████| 533/533 [00:07<00:00, 72.95it/s]\n",
        "[Epoch 20] Loss=0.541429 | AUC=0.704441, Acc=0.677012\n",
        "Epoch 21: 100%|██████████| 533/533 [00:08<00:00, 64.82it/s]\n",
        "[Epoch 21] Loss=0.538668 | AUC=0.704646, Acc=0.677100\n",
        "Epoch 22: 100%|██████████| 533/533 [00:08<00:00, 63.62it/s]\n",
        "[Epoch 22] Loss=0.536799 | AUC=0.704807, Acc=0.677306\n",
        "Epoch 23: 100%|██████████| 533/533 [00:07<00:00, 68.72it/s]\n",
        "[Epoch 23] Loss=0.534445 | AUC=0.704944, Acc=0.677394\n",
        "Epoch 24: 100%|██████████| 533/533 [00:08<00:00, 61.03it/s]\n",
        "[Epoch 24] Loss=0.532425 | AUC=0.705068, Acc=0.677379\n",
        "Epoch 25: 100%|██████████| 533/533 [00:08<00:00, 62.67it/s]\n",
        "[Epoch 25] Loss=0.530261 | AUC=0.705218, Acc=0.677526\n",
        "Epoch 26: 100%|██████████| 533/533 [00:07<00:00, 73.38it/s]\n",
        "[Epoch 26] Loss=0.528605 | AUC=0.705298, Acc=0.677394\n",
        "Epoch 27: 100%|██████████| 533/533 [00:08<00:00, 61.21it/s]\n",
        "[Epoch 27] Loss=0.526968 | AUC=0.705410, Acc=0.677702\n",
        "Epoch 28: 100%|██████████| 533/533 [00:08<00:00, 61.60it/s]\n",
        "[Epoch 28] Loss=0.525342 | AUC=0.705497, Acc=0.677819\n",
        "Epoch 29: 100%|██████████| 533/533 [00:07<00:00, 73.29it/s]\n",
        "[Epoch 29] Loss=0.523598 | AUC=0.705565, Acc=0.677878\n",
        "Epoch 30: 100%|██████████| 533/533 [00:08<00:00, 65.68it/s]\n",
        "[Epoch 30] Loss=0.522000 | AUC=0.705659, Acc=0.678098\n",
        "[Fold 4] final AUC=0.7057, Acc=0.6781\n",
        "\n",
        "=== Fold 5 ===\n",
        "Epoch 1: 100%|██████████| 533/533 [00:08<00:00, 62.55it/s]\n",
        "[Epoch 1] Loss=0.667437 | AUC=0.685789, Acc=0.685612\n",
        "Epoch 2: 100%|██████████| 533/533 [00:06<00:00, 87.33it/s]\n",
        "[Epoch 2] Loss=0.637342 | AUC=0.688935, Acc=0.682163\n",
        "Epoch 3: 100%|██████████| 533/533 [00:07<00:00, 71.12it/s]\n",
        "[Epoch 3] Loss=0.623940 | AUC=0.690402, Acc=0.679125\n",
        "Epoch 4: 100%|██████████| 533/533 [00:08<00:00, 60.97it/s]\n",
        "[Epoch 4] Loss=0.614719 | AUC=0.691281, Acc=0.676381\n",
        "Epoch 5: 100%|██████████| 533/533 [00:07<00:00, 72.23it/s]\n",
        "[Epoch 5] Loss=0.606790 | AUC=0.691884, Acc=0.674297\n",
        "Epoch 6: 100%|██████████| 533/533 [00:07<00:00, 67.22it/s]\n",
        "[Epoch 6] Loss=0.599899 | AUC=0.692457, Acc=0.673549\n",
        "Epoch 7: 100%|██████████| 533/533 [00:08<00:00, 63.47it/s]\n",
        "[Epoch 7] Loss=0.593463 | AUC=0.692935, Acc=0.672977\n",
        "Epoch 8: 100%|██████████| 533/533 [00:07<00:00, 71.80it/s]\n",
        "[Epoch 8] Loss=0.587557 | AUC=0.693410, Acc=0.672669\n",
        "Epoch 9: 100%|██████████| 533/533 [00:07<00:00, 67.66it/s]\n",
        "[Epoch 9] Loss=0.582257 | AUC=0.693852, Acc=0.672184\n",
        "Epoch 10: 100%|██████████| 533/533 [00:08<00:00, 61.36it/s]\n",
        "[Epoch 10] Loss=0.577249 | AUC=0.694250, Acc=0.671627\n",
        "Epoch 11: 100%|██████████| 533/533 [00:07<00:00, 68.36it/s]\n",
        "[Epoch 11] Loss=0.571993 | AUC=0.694648, Acc=0.671715\n",
        "Epoch 12: 100%|██████████| 533/533 [00:07<00:00, 69.02it/s]\n",
        "[Epoch 12] Loss=0.567856 | AUC=0.695001, Acc=0.671715\n",
        "Epoch 13: 100%|██████████| 533/533 [00:08<00:00, 64.95it/s]\n",
        "[Epoch 13] Loss=0.563725 | AUC=0.695282, Acc=0.671436\n",
        "Epoch 14: 100%|██████████| 533/533 [00:07<00:00, 68.61it/s]\n",
        "[Epoch 14] Loss=0.560048 | AUC=0.695616, Acc=0.671524\n",
        "Epoch 15: 100%|██████████| 533/533 [00:07<00:00, 67.78it/s]\n",
        "[Epoch 15] Loss=0.556331 | AUC=0.695954, Acc=0.671685\n",
        "Epoch 16: 100%|██████████| 533/533 [00:08<00:00, 62.65it/s]\n",
        "[Epoch 16] Loss=0.553013 | AUC=0.696240, Acc=0.671759\n",
        "Epoch 17: 100%|██████████| 533/533 [00:08<00:00, 64.99it/s]\n",
        "[Epoch 17] Loss=0.549921 | AUC=0.696486, Acc=0.671876\n",
        "Epoch 18: 100%|██████████| 533/533 [00:07<00:00, 69.90it/s]\n",
        "[Epoch 18] Loss=0.546762 | AUC=0.696723, Acc=0.672023\n",
        "Epoch 19: 100%|██████████| 533/533 [00:08<00:00, 63.52it/s]\n",
        "[Epoch 19] Loss=0.544021 | AUC=0.696965, Acc=0.672170\n",
        "Epoch 20: 100%|██████████| 533/533 [00:08<00:00, 65.20it/s]\n",
        "[Epoch 20] Loss=0.541333 | AUC=0.697131, Acc=0.672214\n",
        "Epoch 21: 100%|██████████| 533/533 [00:07<00:00, 71.45it/s]\n",
        "[Epoch 21] Loss=0.539245 | AUC=0.697297, Acc=0.672155\n",
        "Epoch 22: 100%|██████████| 533/533 [00:08<00:00, 61.59it/s]\n",
        "[Epoch 22] Loss=0.536363 | AUC=0.697490, Acc=0.672625\n",
        "Epoch 23: 100%|██████████| 533/533 [00:08<00:00, 64.88it/s]\n",
        "[Epoch 23] Loss=0.534392 | AUC=0.697614, Acc=0.672507\n",
        "Epoch 24: 100%|██████████| 533/533 [00:07<00:00, 74.31it/s]\n",
        "[Epoch 24] Loss=0.532381 | AUC=0.697770, Acc=0.672537\n",
        "Epoch 25: 100%|██████████| 533/533 [00:08<00:00, 63.09it/s]\n",
        "[Epoch 25] Loss=0.530267 | AUC=0.697922, Acc=0.672918\n",
        "Epoch 26: 100%|██████████| 533/533 [00:08<00:00, 64.32it/s]\n",
        "[Epoch 26] Loss=0.528674 | AUC=0.698020, Acc=0.672859\n",
        "Epoch 27: 100%|██████████| 533/533 [00:07<00:00, 70.00it/s]\n",
        "[Epoch 27] Loss=0.527006 | AUC=0.698143, Acc=0.673006\n",
        "Epoch 28: 100%|██████████| 533/533 [00:10<00:00, 52.62it/s]\n",
        "[Epoch 28] Loss=0.525361 | AUC=0.698256, Acc=0.673138\n",
        "Epoch 29: 100%|██████████| 533/533 [00:08<00:00, 62.33it/s]\n",
        "[Epoch 29] Loss=0.523704 | AUC=0.698341, Acc=0.673476\n",
        "Epoch 30: 100%|██████████| 533/533 [00:07<00:00, 71.90it/s]\n",
        "[Epoch 30] Loss=0.522352 | AUC=0.698414, Acc=0.673446\n",
        "[Fold 5] final AUC=0.6984, Acc=0.6734\n",
        "\n",
        "--- Hasil Cross-Validation (MIRT untuk POMDP) ---\n",
        "AUC rata-rata: 0.6993 ± 0.0048\n",
        "Akurasi rata-rata: 0.6768 ± 0.0035]\n",
        "\"\"\"\n",
        "\n",
        "# ===========================================\n",
        "# PARSE DATA PER FOLD (VERSI LEBIH KUAT)\n",
        "# ===========================================\n",
        "folds = re.split(r\"=== Fold \\d+ ===\", log_text)[1:]\n",
        "all_data = []\n",
        "\n",
        "for fold_idx, fold in enumerate(folds, start=1):\n",
        "    # cari pattern \"Epoch x\" diikuti \"Loss=...\"\n",
        "    matches = re.findall(r\"Epoch\\s+(\\d+).*?Loss=([\\d\\.]+)\", fold)\n",
        "    if matches:\n",
        "        df = pd.DataFrame(matches, columns=['Epoch', 'Loss']).astype(float)\n",
        "        df['Fold'] = f'Fold {fold_idx}'\n",
        "        all_data.append(df)\n",
        "    else:\n",
        "        print(f\"[Warning] Fold {fold_idx} tidak ditemukan data valid.\")\n",
        "\n",
        "if not all_data:\n",
        "    raise ValueError(\"⚠️ Tidak ada data loss yang bisa diparse. Cek format log_text!\")\n",
        "\n",
        "df_all = pd.concat(all_data, ignore_index=True)\n",
        "\n",
        "# ===========================================\n",
        "# VISUALISASI LOSS PER FOLD\n",
        "# ===========================================\n",
        "plt.figure(figsize=(8, 5))\n",
        "for fold_name, group in df_all.groupby('Fold'):\n",
        "    plt.plot(group['Epoch'], group['Loss'], marker='o', label=fold_name)\n",
        "\n",
        "plt.title(\"MIRT Loss History (5-Fold CV)\")\n",
        "plt.xlabel(\"Epoch\")\n",
        "plt.ylabel(\"Loss\")\n",
        "plt.legend(title=\"Fold\", loc=\"upper right\")\n",
        "plt.grid(True, linestyle='--', alpha=0.6)\n",
        "plt.tight_layout()\n",
        "plt.show()\n"
      ],
      "metadata": {
        "colab": {
          "base_uri": "https://localhost:8080/",
          "height": 507
        },
        "id": "WsB9FsDrgExu",
        "outputId": "791962b8-f56b-4f54-bc4f-5b4d2b7b857b"
      },
      "execution_count": null,
      "outputs": [
        {
          "output_type": "display_data",
          "data": {
            "text/plain": [
              "<Figure size 800x500 with 1 Axes>"
            ],
            "image/png": "[encoded data removed]"
          },
          "metadata": {}
        }
      ]
    },
    {
      "cell_type": "code",
      "source": [
        "import torch, os, numpy as np\n",
        "\n",
        "# pilih fold terbaik (berdasarkan AUC yang sudah dihitung waktu training)\n",
        "best_fold = int(np.argmax(aucs)) + 1\n",
        "best_ckpt = os.path.join(MODEL_DIR, f\"mirt_fold{best_fold}_best.pth\")\n",
        "print(\"Best fold:\", best_fold, \"| checkpoint:\", best_ckpt)\n",
        "\n",
        "# load checkpoint\n",
        "ckpt = torch.load(best_ckpt, map_location=\"cpu\")\n",
        "\n",
        "# inisialisasi model lagi\n",
        "best_model = MIRT(user_num=num_users, item_num=num_items,\n",
        "                  latent_dim=LATENT_DIM, a_range=A_RANGE, dropout=DROPOUT)\n",
        "\n",
        "# load bobot ke model (pakai .load dari class MIRT di mirt.py)\n",
        "best_model.load(best_ckpt)"
      ],
      "metadata": {
        "colab": {
          "base_uri": "https://localhost:8080/"
        },
        "id": "-Jc4ucb4qgXn",
        "outputId": "fdc2ba26-39d6-4ef7-8529-727e20d65b48"
      },
      "execution_count": null,
      "outputs": [
        {
          "output_type": "stream",
          "name": "stdout",
          "text": [
            "Best fold: 4 | checkpoint: /content/drive/MyDrive/Ridho/Models/MIRT_POMDP/mirt_fold4_best.pth\n"
          ]
        }
      ]
    },
    {
      "cell_type": "code",
      "source": [
        "# ambil state dict dari irt_net\n",
        "sd = best_model.irt_net.state_dict()\n",
        "\n",
        "theta_all = sd[\"theta.weight\"].cpu().numpy()\n",
        "a = sd[\"a.weight\"].cpu().numpy()\n",
        "b = sd[\"b.weight\"].cpu().numpy().reshape(-1)\n",
        "\n",
        "print(\"theta shape:\", theta_all.shape)  # (num_users, latent_dim)\n",
        "print(\"a shape:\", a.shape)              # (num_items, latent_dim)\n",
        "print(\"b shape:\", b.shape)              # (num_items,)\n",
        "\n",
        "# simpan ke npz\n",
        "EXPORT_DIR = \"/content/drive/MyDrive/Ridho/Models/MIRT_POMDP_Final\"\n",
        "os.makedirs(EXPORT_DIR, exist_ok=True)\n",
        "\n",
        "export_path = os.path.join(EXPORT_DIR, \"mirt_params.npz\")\n",
        "np.savez(export_path, theta=theta_all, a=a, b=b)\n",
        "print(\"✅ Saved:\", export_path)"
      ],
      "metadata": {
        "colab": {
          "base_uri": "https://localhost:8080/"
        },
        "id": "jVKmZiqvxg0x",
        "outputId": "7285d5a2-e19d-429a-9f8b-06ef3fb75c4f"
      },
      "execution_count": null,
      "outputs": [
        {
          "output_type": "stream",
          "name": "stdout",
          "text": [
            "theta shape: (4213, 5)\n",
            "a shape: (26642, 5)\n",
            "b shape: (26642,)\n",
            "✅ Saved: /content/drive/MyDrive/Ridho/Models/MIRT_POMDP_Final/mirt_params.npz\n"
          ]
        }
      ]
    },
    {
      "cell_type": "markdown",
      "source": [
        "# POMDP"
      ],
      "metadata": {
        "id": "two5ohtaxxsd"
      }
    },
    {
      "cell_type": "markdown",
      "source": [
        "POMDP Environment\n",
        "\n",
        "Environment mendefinisikan proses adaptive testing.\n",
        "Komponen utama:\n",
        "\n",
        "- State (belief μ): perkiraan kemampuan user multidimensi.\n",
        "- Action: memilih dimensi/soal untuk ditanyakan.\n",
        "- Observation: jawaban benar/salah berdasarkan MIRT.\n",
        "- Reward: 1 jika benar, 0 jika salah.\n",
        "\n",
        "Belief diperbarui dengan pseudo-Bayes update:"
      ],
      "metadata": {
        "id": "klTd1QeEFWkp"
      }
    },
    {
      "cell_type": "markdown",
      "source": [
        "![Screenshot 2025-09-09 082946.png](data:image/png;base64,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)"
      ],
      "metadata": {
        "id": "Ic3i_yH0Fydq"
      }
    },
    {
      "cell_type": "code",
      "source": [
        "import numpy as np\n",
        "\n",
        "param_path = \"/content/drive/MyDrive/Ridho/Models/MIRT_POMDP_Final/mirt_params.npz\"\n",
        "params = np.load(param_path)\n",
        "theta_all = params[\"theta\"]   # (num_users, latent_dim)\n",
        "a = params[\"a\"]               # (num_items, latent_dim)\n",
        "b = params[\"b\"]               # (num_items,)\n",
        "\n",
        "num_users, latent_dim = theta_all.shape\n",
        "num_items = a.shape[0]\n",
        "\n",
        "print(\"theta\", theta_all.shape, \"a\", a.shape, \"b\", b.shape)"
      ],
      "metadata": {
        "colab": {
          "base_uri": "https://localhost:8080/"
        },
        "id": "GvAOtNYFxh1k",
        "outputId": "25638018-ff34-4aeb-8ce7-1f17db7558aa"
      },
      "execution_count": null,
      "outputs": [
        {
          "output_type": "stream",
          "name": "stdout",
          "text": [
            "theta (4213, 5) a (26642, 5) b (26642,)\n"
          ]
        }
      ]
    },
    {
      "cell_type": "code",
      "source": [
        "import torch, random\n",
        "from scipy.special import expit\n",
        "\n",
        "device = \"cuda\" if torch.cuda.is_available() else \"cpu\"\n",
        "\n",
        "def p_correct_from_mu(mu, item_id):\n",
        "    \"\"\"Probabilitas jawaban benar dengan belief mu\"\"\"\n",
        "    x = float(np.dot(a[item_id], mu) - b[item_id])\n",
        "    return expit(x)\n",
        "\n",
        "class MIRTAdaptiveEnv:\n",
        "    def __init__(self, a_mat, b_vec, episode_len=10, eta=0.25):\n",
        "        self.a = a_mat\n",
        "        self.b = b_vec\n",
        "        self.n_items = a_mat.shape[0]\n",
        "        self.latent_dim = a_mat.shape[1]\n",
        "        self.episode_len = episode_len\n",
        "        self.eta = eta\n",
        "        self.reset()\n",
        "\n",
        "    def reset(self, b0=None):\n",
        "        if b0 is None:\n",
        "            self.mu = np.zeros(self.latent_dim, dtype=np.float32)\n",
        "        else:\n",
        "            self.mu = b0.astype(np.float32).copy()\n",
        "        self.t = 0\n",
        "        self.asked = set()\n",
        "        return torch.from_numpy(self.mu).to(device).float()  # pastikan float32\n",
        "\n",
        "    def step(self, action_dim):\n",
        "        # pilih item yang sesuai dimensi (random untuk demo)\n",
        "        candidates = [i for i in range(self.n_items) if i not in self.asked]\n",
        "        item_id = random.choice(candidates) if candidates else random.randrange(self.n_items)\n",
        "        self.asked.add(item_id)\n",
        "\n",
        "        # hitung prob & simulasi observasi\n",
        "        p = p_correct_from_mu(self.mu, item_id)\n",
        "        obs = 1 if random.random() < p else 0\n",
        "        reward = 1.0 if obs == 1 else 0.0\n",
        "\n",
        "        # update belief\n",
        "        a_item = self.a[item_id].astype(np.float32)\n",
        "        norm = np.linalg.norm(a_item) + 1e-8\n",
        "        delta = self.eta * (obs - p) * (a_item / norm)\n",
        "        self.mu = np.clip(self.mu + delta, -10.0, 10.0).astype(np.float32)\n",
        "\n",
        "        self.t += 1\n",
        "        done = (self.t >= self.episode_len)\n",
        "        next_state = torch.from_numpy(self.mu).to(device).float()  # pastikan float32\n",
        "\n",
        "        info = {\"item\": item_id, \"obs\": obs, \"p\": p}\n",
        "        return next_state, reward, done, info"
      ],
      "metadata": {
        "id": "-xJfLdvsxzov"
      },
      "execution_count": null,
      "outputs": []
    },
    {
      "cell_type": "markdown",
      "source": [
        "Policy Network & Training\n",
        "\n",
        "Policy network (PolicyNet) belajar strategi pemilihan soal:\n",
        "\n",
        "- Input: belief vector μ\n",
        "- Output: distribusi probabilitas atas dimensi\n",
        "\n",
        "Training menggunakan REINFORCE (Policy Gradient) dengan entropi bonus."
      ],
      "metadata": {
        "id": "UCAdt87DGF21"
      }
    },
    {
      "cell_type": "code",
      "source": [
        "import torch.nn as nn\n",
        "from torch.distributions import Categorical\n",
        "\n",
        "class PolicyNet(nn.Module):\n",
        "    def __init__(self, latent_dim, hidden=128):\n",
        "        super().__init__()\n",
        "        self.fc1 = nn.Linear(latent_dim, hidden)\n",
        "        self.fc2 = nn.Linear(hidden, latent_dim)\n",
        "    def forward(self, x):\n",
        "        h = torch.relu(self.fc1(x))\n",
        "        return torch.softmax(self.fc2(h), dim=-1)"
      ],
      "metadata": {
        "id": "xNK_rSaCx2GH"
      },
      "execution_count": null,
      "outputs": []
    },
    {
      "cell_type": "code",
      "source": [
        "import torch.optim as optim\n",
        "\n",
        "def train_policy_gradient(epochs=20, episodes_per_epoch=300, lr=1e-2, gamma=0.99, ent_coef=1e-2):\n",
        "    env = MIRTAdaptiveEnv(a, b, episode_len=10, eta=0.25)\n",
        "    policy = PolicyNet(latent_dim).to(device)\n",
        "    optimizer = optim.Adam(policy.parameters(), lr=lr)\n",
        "\n",
        "    for epoch in range(1, epochs+1):\n",
        "        ep_rewards = []\n",
        "        log_probs, returns, entropies = [], [], []\n",
        "        for _ in range(episodes_per_epoch):\n",
        "            uid = random.randrange(num_users)\n",
        "            state = env.reset(b0=theta_all[uid])\n",
        "            rewards, logps, entrs = [], [], []\n",
        "            done = False\n",
        "            while not done:\n",
        "                probs = policy(state)\n",
        "                dist = Categorical(probs)\n",
        "                action = dist.sample()\n",
        "                next_state, r, done, _ = env.step(action.item())\n",
        "                rewards.append(r)\n",
        "                logps.append(dist.log_prob(action))\n",
        "                entrs.append(dist.entropy())\n",
        "                state = next_state\n",
        "\n",
        "            # discounted return\n",
        "            G = 0; R = []\n",
        "            for r in reversed(rewards):\n",
        "                G = r + gamma * G\n",
        "                R.insert(0, G)\n",
        "            R = torch.tensor(R, dtype=torch.float32, device=device)\n",
        "            if R.std() > 1e-6:\n",
        "                R = (R - R.mean()) / (R.std() + 1e-8)\n",
        "\n",
        "            log_probs += logps\n",
        "            returns += list(R)\n",
        "            entropies += entrs\n",
        "            ep_rewards.append(sum(rewards))\n",
        "\n",
        "        # update policy\n",
        "        log_probs = torch.stack(log_probs)\n",
        "        returns = torch.stack([torch.tensor(r, dtype=torch.float32, device=device) if not torch.is_tensor(r) else r for r in returns])\n",
        "        entropies = torch.stack(entropies)\n",
        "\n",
        "        loss = -(log_probs * returns).sum() - ent_coef * entropies.sum()\n",
        "        optimizer.zero_grad(); loss.backward(); optimizer.step()\n",
        "\n",
        "        print(f\"Epoch {epoch:03d} | Avg reward: {np.mean(ep_rewards):.3f} | Loss: {loss.item():.3f}\")\n",
        "    return policy"
      ],
      "metadata": {
        "id": "Nx33SFjKx3uJ"
      },
      "execution_count": null,
      "outputs": []
    },
    {
      "cell_type": "code",
      "source": [
        "@torch.no_grad()\n",
        "def evaluate_policy(policy, episode_len=10, N=500, eta=0.25):\n",
        "    env = MIRTAdaptiveEnv(a, b, episode_len=episode_len, eta=eta)\n",
        "    policy.eval()\n",
        "    accs, rewards = [], []\n",
        "\n",
        "    for _ in range(N):\n",
        "        uid = random.randrange(num_users)\n",
        "        state = env.reset(b0=theta_all[uid])\n",
        "        total_r, correct, done = 0, 0, False\n",
        "\n",
        "        while not done:\n",
        "            probs = policy(state)\n",
        "            action = torch.argmax(probs).item()\n",
        "            state, r, done, info = env.step(action)\n",
        "            total_r += r\n",
        "            correct += info[\"obs\"]\n",
        "\n",
        "        accs.append(correct / episode_len)\n",
        "        rewards.append(total_r)\n",
        "\n",
        "    return float(np.mean(accs)), float(np.std(accs)), float(np.mean(rewards)), float(np.std(rewards))"
      ],
      "metadata": {
        "id": "zf7VyvPPx5pD"
      },
      "execution_count": null,
      "outputs": []
    },
    {
      "cell_type": "code",
      "source": [
        "# Training policy pakai REINFORCE\n",
        "policy = train_policy_gradient(\n",
        "    epochs=30, episodes_per_epoch=200, lr=1e-4\n",
        ")\n",
        "\n",
        "# Evaluasi policy dengan greedy action\n",
        "acc_mu, acc_sd, rew_mu, rew_sd = evaluate_policy(policy, episode_len=10, N=500)\n",
        "print(f\"[EVAL] Acc={acc_mu:.3f} ± {acc_sd:.3f} | Reward={rew_mu:.3f} ± {rew_sd:.3f}\")"
      ],
      "metadata": {
        "id": "UAzHmQqayBje",
        "outputId": "18f11ee0-7aea-42c9-9ba8-d719c89380e9",
        "colab": {
          "base_uri": "https://localhost:8080/"
        }
      },
      "execution_count": null,
      "outputs": [
        {
          "output_type": "stream",
          "name": "stdout",
          "text": [
            "Epoch 001 | Avg reward: 2.762 | Loss: -0.138\n",
            "Epoch 002 | Avg reward: 2.787 | Loss: -0.167\n",
            "Epoch 003 | Avg reward: 2.813 | Loss: -0.128\n",
            "Epoch 004 | Avg reward: 2.852 | Loss: -0.158\n",
            "Epoch 005 | Avg reward: 2.908 | Loss: -0.163\n",
            "Epoch 006 | Avg reward: 2.786 | Loss: -0.170\n",
            "Epoch 007 | Avg reward: 2.778 | Loss: -0.165\n",
            "Epoch 008 | Avg reward: 2.747 | Loss: -0.154\n",
            "Epoch 009 | Avg reward: 2.891 | Loss: -0.187\n",
            "Epoch 010 | Avg reward: 2.811 | Loss: -0.133\n",
            "Epoch 011 | Avg reward: 2.724 | Loss: -0.161\n",
            "Epoch 012 | Avg reward: 2.880 | Loss: -0.144\n",
            "Epoch 013 | Avg reward: 2.850 | Loss: -0.166\n",
            "Epoch 014 | Avg reward: 2.768 | Loss: -0.199\n",
            "Epoch 015 | Avg reward: 2.833 | Loss: -0.158\n",
            "Epoch 016 | Avg reward: 2.730 | Loss: -0.169\n",
            "Epoch 017 | Avg reward: 2.887 | Loss: -0.207\n",
            "Epoch 018 | Avg reward: 2.805 | Loss: -0.158\n",
            "Epoch 019 | Avg reward: 2.742 | Loss: -0.174\n",
            "Epoch 020 | Avg reward: 2.625 | Loss: -0.136\n",
            "Epoch 021 | Avg reward: 2.793 | Loss: -0.172\n",
            "Epoch 022 | Avg reward: 2.781 | Loss: -0.153\n",
            "Epoch 023 | Avg reward: 2.791 | Loss: -0.152\n",
            "Epoch 024 | Avg reward: 2.885 | Loss: -0.196\n",
            "Epoch 025 | Avg reward: 2.753 | Loss: -0.191\n",
            "Epoch 026 | Avg reward: 2.788 | Loss: -0.157\n",
            "Epoch 027 | Avg reward: 2.800 | Loss: -0.156\n",
            "Epoch 028 | Avg reward: 2.756 | Loss: -0.140\n",
            "Epoch 029 | Avg reward: 2.831 | Loss: -0.072\n",
            "Epoch 030 | Avg reward: 2.852 | Loss: -0.184\n",
            "[EVAL] Acc=0.529 ± 0.151 | Reward=2.807 ± 0.751\n"
          ]
        }
      ]
    },
    {
      "cell_type": "code",
      "source": [
        "# ===== Simulasi ujian adaptif dengan panjang tes tertentu =====\n",
        "def simulate_exam(episode_len, epochs=30, episodes_per_epoch=200, lr=1e-4, N_test=500):\n",
        "    print(f\"\\n===== Policy Gradient (REINFORCE) – {episode_len} soal =====\")\n",
        "\n",
        "    # Training policy (episode_len tidak dipakai di sini)\n",
        "    policy = train_policy_gradient(\n",
        "        epochs=epochs,\n",
        "        episodes_per_epoch=episodes_per_epoch,\n",
        "        lr=lr\n",
        "    )\n",
        "\n",
        "    # Evaluasi policy dengan panjang tes tertentu\n",
        "    acc_mu, acc_sd, rew_mu, rew_sd = evaluate_policy(policy, episode_len=episode_len, N=N_test)\n",
        "    print(f\"[TEST {episode_len}] Acc {acc_mu:.3f} ± {acc_sd:.3f} | Reward {rew_mu:.2f} ± {rew_sd:.2f}\")\n",
        "    return policy\n",
        "\n",
        "# Simulasi untuk 10 soal\n",
        "policy_10 = simulate_exam(episode_len=10, epochs=30, episodes_per_epoch=200, lr=1e-4, N_test=500)\n",
        "\n",
        "# Simulasi untuk 15 soal\n",
        "policy_15 = simulate_exam(episode_len=15, epochs=30, episodes_per_epoch=200, lr=1e-4, N_test=500)"
      ],
      "metadata": {
        "colab": {
          "base_uri": "https://localhost:8080/"
        },
        "id": "VOVmvQTy2Gcz",
        "outputId": "30ec8a31-1589-45fb-bf82-fe9cad22ba08"
      },
      "execution_count": null,
      "outputs": [
        {
          "output_type": "stream",
          "name": "stdout",
          "text": [
            "\n",
            "===== Policy Gradient (REINFORCE) – 10 soal =====\n",
            "Epoch 001 | Avg reward: 2.830 | Loss: -0.155\n",
            "Epoch 002 | Avg reward: 2.830 | Loss: -0.144\n",
            "Epoch 003 | Avg reward: 2.790 | Loss: -0.154\n",
            "Epoch 004 | Avg reward: 2.795 | Loss: -0.166\n",
            "Epoch 005 | Avg reward: 2.705 | Loss: -0.156\n",
            "Epoch 006 | Avg reward: 2.799 | Loss: -0.146\n",
            "Epoch 007 | Avg reward: 2.678 | Loss: -0.157\n",
            "Epoch 008 | Avg reward: 2.821 | Loss: -0.148\n",
            "Epoch 009 | Avg reward: 2.798 | Loss: -0.161\n",
            "Epoch 010 | Avg reward: 2.846 | Loss: -0.162\n",
            "Epoch 011 | Avg reward: 2.827 | Loss: -0.159\n",
            "Epoch 012 | Avg reward: 2.769 | Loss: -0.168\n",
            "Epoch 013 | Avg reward: 2.712 | Loss: -0.167\n",
            "Epoch 014 | Avg reward: 2.830 | Loss: -0.161\n",
            "Epoch 015 | Avg reward: 2.736 | Loss: -0.138\n",
            "Epoch 016 | Avg reward: 2.871 | Loss: -0.155\n",
            "Epoch 017 | Avg reward: 2.790 | Loss: -0.164\n",
            "Epoch 018 | Avg reward: 2.842 | Loss: -0.158\n",
            "Epoch 019 | Avg reward: 2.802 | Loss: -0.170\n",
            "Epoch 020 | Avg reward: 2.765 | Loss: -0.178\n",
            "Epoch 021 | Avg reward: 2.883 | Loss: -0.178\n",
            "Epoch 022 | Avg reward: 2.731 | Loss: -0.209\n",
            "Epoch 023 | Avg reward: 2.910 | Loss: -0.113\n",
            "Epoch 024 | Avg reward: 2.887 | Loss: -0.194\n",
            "Epoch 025 | Avg reward: 2.747 | Loss: -0.199\n",
            "Epoch 026 | Avg reward: 2.737 | Loss: -0.148\n",
            "Epoch 027 | Avg reward: 2.737 | Loss: -0.142\n",
            "Epoch 028 | Avg reward: 2.779 | Loss: -0.173\n",
            "Epoch 029 | Avg reward: 2.797 | Loss: -0.097\n",
            "Epoch 030 | Avg reward: 2.779 | Loss: -0.128\n",
            "[TEST 10] Acc 0.523 ± 0.157 | Reward 2.77 ± 0.78\n",
            "\n",
            "===== Policy Gradient (REINFORCE) – 15 soal =====\n",
            "Epoch 001 | Avg reward: 2.785 | Loss: -0.165\n",
            "Epoch 002 | Avg reward: 2.762 | Loss: -0.195\n",
            "Epoch 003 | Avg reward: 2.753 | Loss: -0.145\n",
            "Epoch 004 | Avg reward: 2.772 | Loss: -0.115\n",
            "Epoch 005 | Avg reward: 2.743 | Loss: -0.155\n",
            "Epoch 006 | Avg reward: 2.660 | Loss: -0.160\n",
            "Epoch 007 | Avg reward: 2.760 | Loss: -0.188\n",
            "Epoch 008 | Avg reward: 2.812 | Loss: -0.151\n",
            "Epoch 009 | Avg reward: 2.789 | Loss: -0.194\n",
            "Epoch 010 | Avg reward: 2.867 | Loss: -0.202\n",
            "Epoch 011 | Avg reward: 2.770 | Loss: -0.115\n",
            "Epoch 012 | Avg reward: 2.756 | Loss: -0.170\n",
            "Epoch 013 | Avg reward: 2.831 | Loss: -0.151\n",
            "Epoch 014 | Avg reward: 2.772 | Loss: -0.118\n",
            "Epoch 015 | Avg reward: 2.833 | Loss: -0.162\n",
            "Epoch 016 | Avg reward: 2.689 | Loss: -0.191\n",
            "Epoch 017 | Avg reward: 2.769 | Loss: -0.157\n",
            "Epoch 018 | Avg reward: 2.834 | Loss: -0.143\n",
            "Epoch 019 | Avg reward: 2.813 | Loss: -0.175\n",
            "Epoch 020 | Avg reward: 2.811 | Loss: -0.145\n",
            "Epoch 021 | Avg reward: 2.818 | Loss: -0.131\n",
            "Epoch 022 | Avg reward: 2.794 | Loss: -0.150\n",
            "Epoch 023 | Avg reward: 2.783 | Loss: -0.125\n",
            "Epoch 024 | Avg reward: 2.751 | Loss: -0.160\n",
            "Epoch 025 | Avg reward: 2.818 | Loss: -0.164\n",
            "Epoch 026 | Avg reward: 2.800 | Loss: -0.153\n",
            "Epoch 027 | Avg reward: 2.618 | Loss: -0.196\n",
            "Epoch 028 | Avg reward: 2.689 | Loss: -0.178\n",
            "Epoch 029 | Avg reward: 2.869 | Loss: -0.190\n",
            "Epoch 030 | Avg reward: 2.830 | Loss: -0.141\n",
            "[TEST 15] Acc 0.533 ± 0.130 | Reward 4.21 ± 0.97\n"
          ]
        }
      ]
    },
    {
      "cell_type": "code",
      "source": [
        "import matplotlib.pyplot as plt\n",
        "import numpy as np\n",
        "\n",
        "# === Data log manual (diambil dari output kamu) ===\n",
        "epochs = np.arange(1, 31)\n",
        "\n",
        "# Reward rata-rata per epoch\n",
        "reward_10 = [\n",
        "2.830,2.830,2.790,2.795,2.705,2.799,2.678,2.821,2.798,2.846,\n",
        "2.827,2.769,2.712,2.830,2.736,2.871,2.790,2.842,2.802,2.765,\n",
        "2.883,2.731,2.910,2.887,2.747,2.737,2.737,2.779,2.797,2.779\n",
        "]\n",
        "\n",
        "reward_15 = [\n",
        "2.785,2.762,2.753,2.772,2.743,2.660,2.760,2.812,2.789,2.867,\n",
        "2.770,2.756,2.831,2.772,2.833,2.689,2.769,2.834,2.813,2.811,\n",
        "2.818,2.794,2.783,2.751,2.818,2.800,2.618,2.689,2.869,2.830\n",
        "]\n",
        "\n",
        "# (opsional) Loss per epoch\n",
        "loss_10 = [\n",
        "-0.155,-0.144,-0.154,-0.166,-0.156,-0.146,-0.157,-0.148,-0.161,-0.162,\n",
        "-0.159,-0.168,-0.167,-0.161,-0.138,-0.155,-0.164,-0.158,-0.170,-0.178,\n",
        "-0.178,-0.209,-0.113,-0.194,-0.199,-0.148,-0.142,-0.173,-0.097,-0.128\n",
        "]\n",
        "\n",
        "loss_15 = [\n",
        "-0.165,-0.195,-0.145,-0.115,-0.155,-0.160,-0.188,-0.151,-0.194,-0.202,\n",
        "-0.115,-0.170,-0.151,-0.118,-0.162,-0.191,-0.157,-0.143,-0.175,-0.145,\n",
        "-0.131,-0.150,-0.125,-0.160,-0.164,-0.153,-0.196,-0.178,-0.190,-0.141\n",
        "]\n",
        "\n",
        "\n",
        "# === Plot Reward ===\n",
        "plt.figure(figsize=(9,5))\n",
        "plt.plot(epochs, reward_10, marker='o', label='Episode Length = 10')\n",
        "plt.plot(epochs, reward_15, marker='s', label='Episode Length = 15')\n",
        "plt.title(\"POMDP Policy Gradient (MIRT Model)\\nAverage Reward per Epoch\")\n",
        "plt.xlabel(\"Epoch\")\n",
        "plt.ylabel(\"Average Reward\")\n",
        "plt.grid(True, alpha=0.3)\n",
        "plt.legend()\n",
        "plt.tight_layout()\n",
        "plt.show()\n",
        "\n",
        "\n",
        "# === Plot Loss (opsional) ===\n",
        "plt.figure(figsize=(9,5))\n",
        "plt.plot(epochs, loss_10, marker='o', label='Episode Length = 10')\n",
        "plt.plot(epochs, loss_15, marker='s', label='Episode Length = 15')\n",
        "plt.title(\"POMDP Policy Gradient (MIRT Model)\\nLoss per Epoch\")\n",
        "plt.xlabel(\"Epoch\")\n",
        "plt.ylabel(\"Policy Loss\")\n",
        "plt.grid(True, alpha=0.3)\n",
        "plt.legend()\n",
        "plt.tight_layout()\n",
        "plt.show()"
      ],
      "metadata": {
        "id": "z7r7zVVynER8",
        "outputId": "fd5b26e2-9579-49ff-d72f-302c34572c22",
        "colab": {
          "base_uri": "https://localhost:8080/",
          "height": 995
        }
      },
      "execution_count": null,
      "outputs": [
        {
          "output_type": "display_data",
          "data": {
            "text/plain": [
              "<Figure size 900x500 with 1 Axes>"
            ],
            "image/png": "[encoded data removed]"
          },
          "metadata": {}
        },
        {
          "output_type": "display_data",
          "data": {
            "text/plain": [
              "<Figure size 900x500 with 1 Axes>"
            ],
            "image/png": "[encoded data removed]"
          },
          "metadata": {}
        }
      ]
    },
    {
      "cell_type": "markdown",
      "source": [
        "Hasil training (120 epoch):\n",
        "\n",
        "- Reward stabil di sekitar 5.3–5.6 per episode (dari 10 soal).\n",
        "- Loss negatif besar (normal di REINFORCE).\n",
        "\n",
        "Evaluasi dengan greedy policy:\n",
        "\n",
        "- Accuracy: 0.535 ± 0.173\n",
        "- Reward: 5.350 ± 1.726"
      ],
      "metadata": {
        "id": "rTNqcAQuGOFS"
      }
    },
    {
      "cell_type": "markdown",
      "source": [
        "**Ringkasan Hasil Eksperimen**\n",
        "\n",
        "- Model MIRT dilatih dengan 5-fold CV → AUC ≈ 0.696, Acc ≈ 0.659.\n",
        "- Parameter (θ, a, b) diekstrak untuk dipakai dalam POMDP.\n",
        "- POMDP environment dibuat dengan belief update berbasis MIRT.\n",
        "- Policy gradient melatih agen untuk memilih soal → reward stabil di sekitar 5.3/10.\n",
        "- Hasil ini sesuai baseline: agent berhasil meniru distribusi jawaban dari model MIRT."
      ],
      "metadata": {
        "id": "hee37XNrGXBB"
      }
    }
  ]
}